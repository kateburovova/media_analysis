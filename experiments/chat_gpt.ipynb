{
 "cells": [
  {
   "cell_type": "markdown",
   "source": [
    "## Import"
   ],
   "metadata": {
    "collapsed": false
   },
   "id": "3c6773b7107c5d48"
  },
  {
   "cell_type": "code",
   "execution_count": 77,
   "outputs": [],
   "source": [
    "import pandas as pd"
   ],
   "metadata": {
    "collapsed": false,
    "ExecuteTime": {
     "end_time": "2023-09-15T09:35:03.495646Z",
     "start_time": "2023-09-15T09:35:03.494109Z"
    }
   },
   "id": "af7352bb8f7d0959"
  },
  {
   "cell_type": "code",
   "execution_count": 2,
   "outputs": [],
   "source": [
    "df_full = pd.read_csv(\"../data/df_5_percent_sample.csv\") # 5% of the whole dataset = frac 0.05, random_state 42"
   ],
   "metadata": {
    "collapsed": false,
    "ExecuteTime": {
     "end_time": "2023-09-11T07:59:44.021460Z",
     "start_time": "2023-09-11T07:59:38.682329Z"
    }
   },
   "id": "4b0490edb31eb4d3"
  },
  {
   "cell_type": "code",
   "execution_count": 78,
   "outputs": [],
   "source": [
    "df_kram = pd.read_csv(\"../data/KramDF.csv\")"
   ],
   "metadata": {
    "collapsed": false,
    "ExecuteTime": {
     "end_time": "2023-09-15T09:35:05.545710Z",
     "start_time": "2023-09-15T09:35:05.487174Z"
    }
   },
   "id": "95431db6498b0782"
  },
  {
   "cell_type": "code",
   "execution_count": 79,
   "outputs": [
    {
     "data": {
      "text/plain": "      Unnamed: 0                 date  \\\n0          19970  2022-04-08 07:41:38   \n1          22746  2022-04-08 07:47:08   \n2          66588  2022-04-08 07:47:37   \n3          60381  2022-04-08 07:48:24   \n4          59148  2022-04-08 07:54:28   \n...          ...                  ...   \n2158       50678  2022-04-13 19:37:37   \n2159       54212  2022-04-13 20:00:16   \n2160       62503  2022-04-13 20:05:55   \n2161       57948  2022-04-13 20:25:26   \n2162        4732  2022-04-13 20:32:10   \n\n                                                message  \\\n0     НОВОСТИ ПО ТАЙМИНГУ №2\\n\\n11:00 Бастрыкин пору...   \n1     ❗️Прилеты по ж/д Краматорска в эти минуты. Ско...   \n2     ⚡️Фронтовая сводка на утро 08.04.22⚡️ \\n\\nБои ...   \n3     ⚡️Фронтовая сводка на утро 08.04.22⚡️ \\n\\nБои ...   \n4     Над ЖД вокзалом Краматорска сбили Точку-У.\\n\\n...   \n...                                                 ...   \n2158  Видимо крупнейший провал британской пропаганды...   \n2159  В чём принципиальная важность массовой (более ...   \n2160  #Раскладка \\nГлядя на трагедию в Краматорске м...   \n2161  Видимо крупнейший провал британской пропаганды...   \n2162  Фейк: В Мариуполе подразделения 36-ой бригады ...   \n\n                       channel_name  \n0          https://t.me/dontstopwar  \n1          https://t.me/Ags_Donbass  \n2           https://t.me/sddonbassa  \n3                https://t.me/VZBOD  \n4     https://t.me/breege_time_20zz  \n...                             ...  \n2158      https://t.me/Oleg_Blokhin  \n2159       https://t.me/ale_kazakov  \n2160        https://t.me/zoperation  \n2161       https://t.me/Army_Russia  \n2162          https://t.me/warfakes  \n\n[2163 rows x 4 columns]",
      "text/html": "<div>\n<style scoped>\n    .dataframe tbody tr th:only-of-type {\n        vertical-align: middle;\n    }\n\n    .dataframe tbody tr th {\n        vertical-align: top;\n    }\n\n    .dataframe thead th {\n        text-align: right;\n    }\n</style>\n<table border=\"1\" class=\"dataframe\">\n  <thead>\n    <tr style=\"text-align: right;\">\n      <th></th>\n      <th>Unnamed: 0</th>\n      <th>date</th>\n      <th>message</th>\n      <th>channel_name</th>\n    </tr>\n  </thead>\n  <tbody>\n    <tr>\n      <th>0</th>\n      <td>19970</td>\n      <td>2022-04-08 07:41:38</td>\n      <td>НОВОСТИ ПО ТАЙМИНГУ №2\\n\\n11:00 Бастрыкин пору...</td>\n      <td>https://t.me/dontstopwar</td>\n    </tr>\n    <tr>\n      <th>1</th>\n      <td>22746</td>\n      <td>2022-04-08 07:47:08</td>\n      <td>❗️Прилеты по ж/д Краматорска в эти минуты. Ско...</td>\n      <td>https://t.me/Ags_Donbass</td>\n    </tr>\n    <tr>\n      <th>2</th>\n      <td>66588</td>\n      <td>2022-04-08 07:47:37</td>\n      <td>⚡️Фронтовая сводка на утро 08.04.22⚡️ \\n\\nБои ...</td>\n      <td>https://t.me/sddonbassa</td>\n    </tr>\n    <tr>\n      <th>3</th>\n      <td>60381</td>\n      <td>2022-04-08 07:48:24</td>\n      <td>⚡️Фронтовая сводка на утро 08.04.22⚡️ \\n\\nБои ...</td>\n      <td>https://t.me/VZBOD</td>\n    </tr>\n    <tr>\n      <th>4</th>\n      <td>59148</td>\n      <td>2022-04-08 07:54:28</td>\n      <td>Над ЖД вокзалом Краматорска сбили Точку-У.\\n\\n...</td>\n      <td>https://t.me/breege_time_20zz</td>\n    </tr>\n    <tr>\n      <th>...</th>\n      <td>...</td>\n      <td>...</td>\n      <td>...</td>\n      <td>...</td>\n    </tr>\n    <tr>\n      <th>2158</th>\n      <td>50678</td>\n      <td>2022-04-13 19:37:37</td>\n      <td>Видимо крупнейший провал британской пропаганды...</td>\n      <td>https://t.me/Oleg_Blokhin</td>\n    </tr>\n    <tr>\n      <th>2159</th>\n      <td>54212</td>\n      <td>2022-04-13 20:00:16</td>\n      <td>В чём принципиальная важность массовой (более ...</td>\n      <td>https://t.me/ale_kazakov</td>\n    </tr>\n    <tr>\n      <th>2160</th>\n      <td>62503</td>\n      <td>2022-04-13 20:05:55</td>\n      <td>#Раскладка \\nГлядя на трагедию в Краматорске м...</td>\n      <td>https://t.me/zoperation</td>\n    </tr>\n    <tr>\n      <th>2161</th>\n      <td>57948</td>\n      <td>2022-04-13 20:25:26</td>\n      <td>Видимо крупнейший провал британской пропаганды...</td>\n      <td>https://t.me/Army_Russia</td>\n    </tr>\n    <tr>\n      <th>2162</th>\n      <td>4732</td>\n      <td>2022-04-13 20:32:10</td>\n      <td>Фейк: В Мариуполе подразделения 36-ой бригады ...</td>\n      <td>https://t.me/warfakes</td>\n    </tr>\n  </tbody>\n</table>\n<p>2163 rows × 4 columns</p>\n</div>"
     },
     "execution_count": 79,
     "metadata": {},
     "output_type": "execute_result"
    }
   ],
   "source": [
    "df_kram"
   ],
   "metadata": {
    "collapsed": false,
    "ExecuteTime": {
     "end_time": "2023-09-15T09:35:06.446412Z",
     "start_time": "2023-09-15T09:35:06.442508Z"
    }
   },
   "id": "5bb19b4bfd95e41b"
  },
  {
   "cell_type": "code",
   "execution_count": 80,
   "outputs": [
    {
     "data": {
      "text/plain": "'❗️Прилеты по ж/д Краматорска в эти минуты. Скорее всего работают по скоплению ВСУ в районе завода (КЦШК) и (СКМЗ).'"
     },
     "execution_count": 80,
     "metadata": {},
     "output_type": "execute_result"
    }
   ],
   "source": [
    "df_kram.message[1]"
   ],
   "metadata": {
    "collapsed": false,
    "ExecuteTime": {
     "end_time": "2023-09-15T09:35:08.397513Z",
     "start_time": "2023-09-15T09:35:08.360076Z"
    }
   },
   "id": "919f4afcb274d5f6"
  },
  {
   "cell_type": "markdown",
   "source": [
    "## For labeling"
   ],
   "metadata": {
    "collapsed": false
   },
   "id": "9242de5a7deb606e"
  },
  {
   "cell_type": "code",
   "execution_count": 83,
   "outputs": [],
   "source": [
    "df_sample = df_kram.sample(100, random_state=42).copy()"
   ],
   "metadata": {
    "collapsed": false,
    "ExecuteTime": {
     "end_time": "2023-09-15T09:35:47.352554Z",
     "start_time": "2023-09-15T09:35:47.340312Z"
    }
   },
   "id": "a5dfe6e17f67009c"
  },
  {
   "cell_type": "code",
   "execution_count": 84,
   "outputs": [
    {
     "data": {
      "text/plain": "      Unnamed: 0                 date  \\\n786         9132  2022-04-08 12:19:15   \n1542       26440  2022-04-09 15:48:01   \n1270       46806  2022-04-08 22:14:17   \n1117        9840  2022-04-08 17:21:50   \n2150       62546  2022-04-13 19:12:05   \n...          ...                  ...   \n2066        5077  2022-04-13 08:16:02   \n196        22685  2022-04-08 09:10:35   \n367        22635  2022-04-08 09:50:49   \n707          333  2022-04-08 11:42:08   \n2138       36643  2022-04-13 18:37:24   \n\n                                                message  \\\n786   ⚡️«Это сделала Украина, я это заявляю официаль...   \n1542  Канал \"Тройка\" нашел неопровержимые доказатель...   \n1270  ​​Карта военных действий и ситуация на фронтах...   \n1117  ⚡️⚡️ Брифинг Минобороны России:   \\n  \\n— Резу...   \n2150  Вот так у нас проводится эвакуация государство...   \n...                                                 ...   \n2066  Проукраинская BBC, игнорируя то, что «Точка-У»...   \n196   И еще от подписчика из Краматорска: \"А самое о...   \n367   ❗️УВАГА‼️Евакуація\\n\\nУточнення щодо евакуацій...   \n707   Минобороны выступило с новым заявлением по Кра...   \n2138  Минобороны о гуманитарной ситуации на Украине:...   \n\n                   channel_name  \n786   https://t.me/bazhenovteam  \n1542      https://t.me/karaulny  \n1270     https://t.me/chvkmedia  \n1117      https://t.me/SIL0VIKI  \n2150    https://t.me/zoperation  \n...                         ...  \n2066        https://t.me/ssigny  \n196    https://t.me/Ags_Donbass  \n367    https://t.me/Ags_Donbass  \n707   https://t.me/breakingmash  \n2138    https://t.me/vzglyad_ru  \n\n[100 rows x 4 columns]",
      "text/html": "<div>\n<style scoped>\n    .dataframe tbody tr th:only-of-type {\n        vertical-align: middle;\n    }\n\n    .dataframe tbody tr th {\n        vertical-align: top;\n    }\n\n    .dataframe thead th {\n        text-align: right;\n    }\n</style>\n<table border=\"1\" class=\"dataframe\">\n  <thead>\n    <tr style=\"text-align: right;\">\n      <th></th>\n      <th>Unnamed: 0</th>\n      <th>date</th>\n      <th>message</th>\n      <th>channel_name</th>\n    </tr>\n  </thead>\n  <tbody>\n    <tr>\n      <th>786</th>\n      <td>9132</td>\n      <td>2022-04-08 12:19:15</td>\n      <td>⚡️«Это сделала Украина, я это заявляю официаль...</td>\n      <td>https://t.me/bazhenovteam</td>\n    </tr>\n    <tr>\n      <th>1542</th>\n      <td>26440</td>\n      <td>2022-04-09 15:48:01</td>\n      <td>Канал \"Тройка\" нашел неопровержимые доказатель...</td>\n      <td>https://t.me/karaulny</td>\n    </tr>\n    <tr>\n      <th>1270</th>\n      <td>46806</td>\n      <td>2022-04-08 22:14:17</td>\n      <td>​​Карта военных действий и ситуация на фронтах...</td>\n      <td>https://t.me/chvkmedia</td>\n    </tr>\n    <tr>\n      <th>1117</th>\n      <td>9840</td>\n      <td>2022-04-08 17:21:50</td>\n      <td>⚡️⚡️ Брифинг Минобороны России:   \\n  \\n— Резу...</td>\n      <td>https://t.me/SIL0VIKI</td>\n    </tr>\n    <tr>\n      <th>2150</th>\n      <td>62546</td>\n      <td>2022-04-13 19:12:05</td>\n      <td>Вот так у нас проводится эвакуация государство...</td>\n      <td>https://t.me/zoperation</td>\n    </tr>\n    <tr>\n      <th>...</th>\n      <td>...</td>\n      <td>...</td>\n      <td>...</td>\n      <td>...</td>\n    </tr>\n    <tr>\n      <th>2066</th>\n      <td>5077</td>\n      <td>2022-04-13 08:16:02</td>\n      <td>Проукраинская BBC, игнорируя то, что «Точка-У»...</td>\n      <td>https://t.me/ssigny</td>\n    </tr>\n    <tr>\n      <th>196</th>\n      <td>22685</td>\n      <td>2022-04-08 09:10:35</td>\n      <td>И еще от подписчика из Краматорска: \"А самое о...</td>\n      <td>https://t.me/Ags_Donbass</td>\n    </tr>\n    <tr>\n      <th>367</th>\n      <td>22635</td>\n      <td>2022-04-08 09:50:49</td>\n      <td>❗️УВАГА‼️Евакуація\\n\\nУточнення щодо евакуацій...</td>\n      <td>https://t.me/Ags_Donbass</td>\n    </tr>\n    <tr>\n      <th>707</th>\n      <td>333</td>\n      <td>2022-04-08 11:42:08</td>\n      <td>Минобороны выступило с новым заявлением по Кра...</td>\n      <td>https://t.me/breakingmash</td>\n    </tr>\n    <tr>\n      <th>2138</th>\n      <td>36643</td>\n      <td>2022-04-13 18:37:24</td>\n      <td>Минобороны о гуманитарной ситуации на Украине:...</td>\n      <td>https://t.me/vzglyad_ru</td>\n    </tr>\n  </tbody>\n</table>\n<p>100 rows × 4 columns</p>\n</div>"
     },
     "execution_count": 84,
     "metadata": {},
     "output_type": "execute_result"
    }
   ],
   "source": [
    "df_sample"
   ],
   "metadata": {
    "collapsed": false,
    "ExecuteTime": {
     "end_time": "2023-09-15T09:35:47.718491Z",
     "start_time": "2023-09-15T09:35:47.711973Z"
    }
   },
   "id": "c00845ebe682695"
  },
  {
   "cell_type": "code",
   "execution_count": 86,
   "outputs": [],
   "source": [
    "df_sample.to_csv('../data/unlabeled_sample.csv')"
   ],
   "metadata": {
    "collapsed": false,
    "ExecuteTime": {
     "end_time": "2023-09-15T09:36:57.849863Z",
     "start_time": "2023-09-15T09:36:57.840991Z"
    }
   },
   "id": "a3aaf04c5d9b868"
  },
  {
   "cell_type": "markdown",
   "source": [
    "## Helper functions"
   ],
   "metadata": {
    "collapsed": false
   },
   "id": "17c9a564486b515b"
  },
  {
   "cell_type": "code",
   "execution_count": 5,
   "outputs": [],
   "source": [
    "import openai"
   ],
   "metadata": {
    "collapsed": false,
    "ExecuteTime": {
     "end_time": "2023-09-11T07:59:45.835738Z",
     "start_time": "2023-09-11T07:59:45.747226Z"
    }
   },
   "id": "f8b02724c3b26f73"
  },
  {
   "cell_type": "code",
   "execution_count": 6,
   "outputs": [],
   "source": [
    "import os\n",
    "from dotenv import load_dotenv\n",
    "\n",
    "load_dotenv()\n",
    "\n",
    "api_key = os.environ.get(\"OPENAI_API_KEY\")\n",
    "if api_key is None:\n",
    "    raise ValueError(\"The OPENAI_API_KEY environment variable is not set.\")\n",
    "\n",
    "openai.api_key=api_key"
   ],
   "metadata": {
    "collapsed": false,
    "ExecuteTime": {
     "end_time": "2023-09-11T07:59:46.417056Z",
     "start_time": "2023-09-11T07:59:46.407382Z"
    }
   },
   "id": "ee0fa597ecf8b1b2"
  },
  {
   "cell_type": "code",
   "execution_count": 7,
   "outputs": [],
   "source": [
    "def get_completion(prompt, model=\"gpt-3.5-turbo\"):\n",
    "    messages = [{\"role\": \"user\", \"content\": prompt}]\n",
    "    response = openai.ChatCompletion.create(\n",
    "        model=model,\n",
    "        messages=messages,\n",
    "        temperature=0,\n",
    "    )\n",
    "    return response.choices[0].message[\"content\"]"
   ],
   "metadata": {
    "collapsed": false,
    "ExecuteTime": {
     "end_time": "2023-09-11T08:00:41.090403Z",
     "start_time": "2023-09-11T08:00:41.084861Z"
    }
   },
   "id": "b907dadcdefba726"
  },
  {
   "cell_type": "markdown",
   "source": [
    "## Experiments"
   ],
   "metadata": {
    "collapsed": false
   },
   "id": "dc0e7fc60969f0fd"
  },
  {
   "cell_type": "code",
   "execution_count": 9,
   "outputs": [],
   "source": [
    "test = get_completion(\"Hi my name is What my name is ...\")"
   ],
   "metadata": {
    "collapsed": false,
    "ExecuteTime": {
     "end_time": "2023-09-11T08:01:53.036552Z",
     "start_time": "2023-09-11T08:01:51.541117Z"
    }
   },
   "id": "3de75f0274202f06"
  },
  {
   "cell_type": "code",
   "execution_count": 10,
   "outputs": [
    {
     "data": {
      "text/plain": "\"Sorry, but I can't continue the lyrics for you.\""
     },
     "execution_count": 10,
     "metadata": {},
     "output_type": "execute_result"
    }
   ],
   "source": [
    "test"
   ],
   "metadata": {
    "collapsed": false,
    "ExecuteTime": {
     "end_time": "2023-09-11T08:01:56.120689Z",
     "start_time": "2023-09-11T08:01:56.111770Z"
    }
   },
   "id": "bbb78fd6a07908be"
  },
  {
   "cell_type": "code",
   "execution_count": 13,
   "outputs": [
    {
     "data": {
      "text/plain": "'❗️Прилеты по ж/д Краматорска в эти минуты. Скорее всего работают по скоплению ВСУ в районе завода (КЦШК) и (СКМЗ).'"
     },
     "execution_count": 13,
     "metadata": {},
     "output_type": "execute_result"
    }
   ],
   "source": [
    "df_kram.message[1]"
   ],
   "metadata": {
    "collapsed": false,
    "ExecuteTime": {
     "end_time": "2023-09-11T08:04:04.849800Z",
     "start_time": "2023-09-11T08:04:04.841282Z"
    }
   },
   "id": "6255d096c2d88fdd"
  },
  {
   "cell_type": "code",
   "execution_count": null,
   "outputs": [],
   "source": [
    "role = \"\""
   ],
   "metadata": {
    "collapsed": false
   },
   "id": "3a9246468d71b352"
  },
  {
   "cell_type": "code",
   "execution_count": 15,
   "outputs": [],
   "source": [
    "prompt_test1 = '''\n",
    "As I told you are a helpful assistant trained to detect and classify propaganda in text.\n",
    "You will be in the role of media expert who understands propaganda, and you know how propagandists manipulate the minds of viewers. \n",
    "\n",
    "The following text is an instruction. Given the following list of narrative classes and subclasses:\n",
    "1. Создание идентичности \n",
    "   1.1. Формирование чувства общей идентичности\n",
    "   1.2. Создание разницы между двумя, в будущем воюющими группами, создание разделения мы и они, что создает внутреннюю сплоченность группы и четко идентифицирует врага\n",
    "   1.3. Дегуманизация, они недолюди или они преступники, поэтому наше к ним отношение и наше поведение с ними оправдано\n",
    "   1.4. Атрибуция вины\n",
    "   1.5. Гуманизация \n",
    "2. Легитимизация насилия \n",
    "   2.1. Для того, чтобы люди соглашались участвовать в насилии, они должны воспринимать его как легитимное\n",
    "   2.2. Цели войны справедливы\n",
    "   2.3. Это самооборона\n",
    "   2.4. Они совершают преступление, мы должны их остановить\n",
    "   2.5. Кто если не мы\n",
    "3. Вербовка бойцов \n",
    "   3.1. Воевать это почетный долг\n",
    "   3.2. Деды воевали\n",
    "   3.3. Почетный долг \n",
    "   3.4. Воевать это по мужски\n",
    "   3.5. Наказание дезертиров \n",
    "   3.6. Умирать за родину почетно\n",
    "4. Идеологизация преступников \n",
    "   4.1. Жестокие случаи насилия выставляются как героические \n",
    "   4.2. Награды за жестокость\n",
    "   4.3. Наказание за снисходительность \n",
    "5. Сдерживание оппозиции \n",
    "   5.1. Наказание и покрывание позором бойцов отказывающихся воевать\n",
    "   5.2. Строгое наказание за дезертирство\n",
    "   5.3. Строгое наказание за не поддержку войны\n",
    "   5.4. Награды за поддержку войны\n",
    "6. Умиротворение\n",
    "   6.1. Когда нужно подготовить к режиму прекращения огня \n",
    "   6.2. Когда нужно подготовить к переговорам\n",
    "   6.3. Когда нужно объяснить поражение”\n",
    "\n",
    "Classify the source text and provide top-5 of matched classes with examples from the source text below. \n",
    "Provide output in Russian language in the following  JSON format (<START_CLASS> and <END_CLASS> tags should be added to simplify parsing of the response):\n",
    "<START_CLASS>\n",
    "[\n",
    "    {\"class\" : `class_name`, \"quotes\" : [ {quote: `quote`, \"reason\": `reason`}, {quote: `quote`, \"reason\": `reason`}, ...]},\n",
    "    {\"class\" : `class_name`, \"quotes\" : [ {quote: `quote`, \"reason\": `reason`}, {quote: `quote`, \"reason\": `reason`}, ...]},\n",
    "    {\"class\" : `class_name`, \"quotes\" : [ {quote: `quote`, \"reason\": `reason`}, {quote: `quote`, \"reason\": `reason`}, ...]},\n",
    "    ...\n",
    "]\n",
    "<END_CLASS>\n",
    "\n",
    "- `class_name` is the names of the class from given narrative classes.\n",
    "- \"quotes\" list of the `quote` with `reason` that relates to this class\n",
    "- `quote` consists of relevant quote from the source text corresponding to the `class_name` (quote must be completed with context)\n",
    "- `reason' an explanation of why this `quote` has been classified as such\n",
    "Do not include class into the output if source text does not contain it.\n",
    "'''"
   ],
   "metadata": {
    "collapsed": false,
    "ExecuteTime": {
     "end_time": "2023-09-11T14:40:42.676564Z",
     "start_time": "2023-09-11T14:40:42.663108Z"
    }
   },
   "id": "278c0be03ec810e8"
  },
  {
   "cell_type": "code",
   "execution_count": 62,
   "outputs": [],
   "source": [
    "metaprompt = '''\n",
    "You are a media expert who understands propaganda. \n",
    "On 8 April 2022, a missile strike hit the railway station of the Ukrainian city of Kramatorsk during the Russian invasion of Ukraine. The strike killed 63 civilians (including 9 children) and wounded 150 (including 34 children).\n",
    "Your task is to apply your understanding of propaganda dissemination techniques to identify narratives in reporting of this event.\n",
    "I am going to provide you with a text from Russian Telegram channel delimited by triple backticks. Is author refers to actor as \"we\", \"our\" or it is implicit than actor is Russia.\n",
    "Based on this text answer the following questions in 2 words or less:\n",
    "1. Does this text mention information about Kramatorsk railway station attack? If yes, provide fragment of text based on which you're answering. \n",
    "2. Who was behind the attack?\n",
    "3. What was the missile type?\n",
    "4. What was the purpose of the attack?\n",
    "5. If who was behind the attack is not mentioned directly, infer the perpetrator from the purpose of attack. If purpose is to harm Russian it must be Ukraine. If purpose is to harm Ukrainians it must be Russia.\n",
    "6. If the pronouns used when referring to the actor are not specified, it must be Russia.\n",
    "\n",
    "'''"
   ],
   "metadata": {
    "collapsed": false,
    "ExecuteTime": {
     "end_time": "2023-09-11T16:00:01.663363Z",
     "start_time": "2023-09-11T16:00:01.658496Z"
    }
   },
   "id": "a5b30e612ade4694"
  },
  {
   "cell_type": "code",
   "execution_count": 73,
   "outputs": [],
   "source": [
    "metaprompt = '''\n",
    "You are a media expert who understands propaganda. \n",
    "On 8 April 2022, a missile strike hit the railway station of the Ukrainian city of Kramatorsk during the Russian invasion of Ukraine. The strike killed 63 civilians (including 9 children) and wounded 150 (including 34 children).\n",
    "Your task is to apply your understanding of propaganda dissemination techniques to identify narratives in reporting of this event.\n",
    "I am going to provide you with a text from Russian Telegram channel delimited by triple backticks. Is author refers to actor as \"we\", \"our\" or it is implicit than actor is Russia.\n",
    "Based on this text answer the following questions in 2 words or less:\n",
    "1. Does this text mention information about Kramatorsk railway station attack? If yes, provide fragment of text based on which you're answering. \n",
    "2. Explain how attack happened.\n",
    "2. Who was behind the attack?\n",
    "3. What was the missile type?\n",
    "4. What was the purpose of the attack?\n",
    "5. If who was behind the attack is not mentioned directly, infer the perpetrator from the purpose of attack. If purpose is to harm Russian it must be Ukraine. If purpose is to harm Ukrainians it must be Russia.\n",
    "6. If the pronouns used when referring to the actor are not specified, it must be Russia.\n",
    "\n",
    "'''"
   ],
   "metadata": {
    "collapsed": false,
    "ExecuteTime": {
     "end_time": "2023-09-11T16:10:19.381374Z",
     "start_time": "2023-09-11T16:10:19.377882Z"
    }
   },
   "id": "b6729e00dca466e1"
  },
  {
   "cell_type": "code",
   "execution_count": 74,
   "outputs": [
    {
     "data": {
      "text/plain": "'#АГС_Сводка\\n\\n10.59 - ⚡️Над ЖД вокзалом в Краматорске что-то сбили. Говорят есть жертвы. Предположительно, точка У от ВФУ. Снова провокация для обвинения армии ЛДНР и РФ.'"
     },
     "execution_count": 74,
     "metadata": {},
     "output_type": "execute_result"
    }
   ],
   "source": [
    "prompt = df_kram.message[6]\n",
    "prompt"
   ],
   "metadata": {
    "collapsed": false,
    "ExecuteTime": {
     "end_time": "2023-09-11T16:10:19.855794Z",
     "start_time": "2023-09-11T16:10:19.852858Z"
    }
   },
   "id": "ea560e7359e39278"
  },
  {
   "cell_type": "code",
   "execution_count": 75,
   "outputs": [],
   "source": [
    "def get_completion(metaprompt, prompt, model=\"gpt-3.5-turbo\"):\n",
    "    full_prompt = f'{metaprompt} \\n```{prompt}```'\n",
    "    print(full_prompt)\n",
    "    print('\\n')\n",
    "    messages = [{\"role\": \"user\", \"content\": full_prompt}]\n",
    "    response = openai.ChatCompletion.create(\n",
    "        model=model,\n",
    "        messages=messages,\n",
    "        temperature=0,\n",
    "    )\n",
    "    print(response.choices[0].message[\"content\"])\n",
    "    return response.choices[0].message[\"content\"]"
   ],
   "metadata": {
    "collapsed": false,
    "ExecuteTime": {
     "end_time": "2023-09-11T16:10:20.411483Z",
     "start_time": "2023-09-11T16:10:20.404985Z"
    }
   },
   "id": "9dd267e402704a67"
  },
  {
   "cell_type": "code",
   "execution_count": 76,
   "outputs": [
    {
     "name": "stdout",
     "output_type": "stream",
     "text": [
      "\n",
      "You are a media expert who understands propaganda. \n",
      "On 8 April 2022, a missile strike hit the railway station of the Ukrainian city of Kramatorsk during the Russian invasion of Ukraine. The strike killed 63 civilians (including 9 children) and wounded 150 (including 34 children).\n",
      "Your task is to apply your understanding of propaganda dissemination techniques to identify narratives in reporting of this event.\n",
      "I am going to provide you with a text from Russian Telegram channel delimited by triple backticks. Is author refers to actor as \"we\", \"our\" or it is implicit than actor is Russia.\n",
      "Based on this text answer the following questions in 2 words or less:\n",
      "1. Does this text mention information about Kramatorsk railway station attack? If yes, provide fragment of text based on which you're answering. \n",
      "2. Explain how attack happened.\n",
      "2. Who was behind the attack?\n",
      "3. What was the missile type?\n",
      "4. What was the purpose of the attack?\n",
      "5. If who was behind the attack is not mentioned directly, infer the perpetrator from the purpose of attack. If purpose is to harm Russian it must be Ukraine. If purpose is to harm Ukrainians it must be Russia.\n",
      "6. If the pronouns used when referring to the actor are not specified, it must be Russia.\n",
      "\n",
      " \n",
      "```#АГС_Сводка\n",
      "\n",
      "10.59 - ⚡️Над ЖД вокзалом в Краматорске что-то сбили. Говорят есть жертвы. Предположительно, точка У от ВФУ. Снова провокация для обвинения армии ЛДНР и РФ.```\n",
      "\n",
      "1. Yes, the text mentions information about the Kramatorsk railway station attack. The fragment of text is \"Над ЖД вокзалом в Краматорске что-то сбили\" (Something was shot down over the railway station in Kramatorsk).\n",
      "2. The text does not provide explicit information on how the attack happened.\n",
      "3. The text does not mention who was behind the attack.\n",
      "4. The text does not mention the missile type.\n",
      "5. The purpose of the attack is stated as \"Снова провокация для обвинения армии ЛДНР и РФ\" (Another provocation to accuse the army of the Luhansk People's Republic and the Russian Federation). Based on this purpose, it can be inferred that the attack was intended to harm Ukrainians, suggesting that Russia may be behind the attack.\n",
      "6. If the pronouns used when referring to the actor are not specified, it can be inferred that Russia is the actor.\n"
     ]
    },
    {
     "data": {
      "text/plain": "'1. Yes, the text mentions information about the Kramatorsk railway station attack. The fragment of text is \"Над ЖД вокзалом в Краматорске что-то сбили\" (Something was shot down over the railway station in Kramatorsk).\\n2. The text does not provide explicit information on how the attack happened.\\n3. The text does not mention who was behind the attack.\\n4. The text does not mention the missile type.\\n5. The purpose of the attack is stated as \"Снова провокация для обвинения армии ЛДНР и РФ\" (Another provocation to accuse the army of the Luhansk People\\'s Republic and the Russian Federation). Based on this purpose, it can be inferred that the attack was intended to harm Ukrainians, suggesting that Russia may be behind the attack.\\n6. If the pronouns used when referring to the actor are not specified, it can be inferred that Russia is the actor.'"
     },
     "execution_count": 76,
     "metadata": {},
     "output_type": "execute_result"
    }
   ],
   "source": [
    "get_completion(metaprompt = metaprompt, prompt = prompt)"
   ],
   "metadata": {
    "collapsed": false,
    "ExecuteTime": {
     "end_time": "2023-09-11T16:10:28.803209Z",
     "start_time": "2023-09-11T16:10:21.116700Z"
    }
   },
   "id": "e1d6238348238c4e"
  },
  {
   "cell_type": "code",
   "execution_count": null,
   "outputs": [],
   "source": [
    "# the most interesting cases\n",
    "df_kram.message[4]\n"
   ],
   "metadata": {
    "collapsed": false
   },
   "id": "63165c259e6e5730"
  },
  {
   "cell_type": "markdown",
   "source": [
    "что-то сбили - не прямое попадание, 2 актора\n",
    "\n",
    "нет на вооружении точки У\n",
    "\n"
   ],
   "metadata": {
    "collapsed": false
   },
   "id": "cc7c678dd1a304bf"
  }
 ],
 "metadata": {
  "kernelspec": {
   "display_name": "Python 3",
   "language": "python",
   "name": "python3"
  },
  "language_info": {
   "codemirror_mode": {
    "name": "ipython",
    "version": 2
   },
   "file_extension": ".py",
   "mimetype": "text/x-python",
   "name": "python",
   "nbconvert_exporter": "python",
   "pygments_lexer": "ipython2",
   "version": "2.7.6"
  }
 },
 "nbformat": 4,
 "nbformat_minor": 5
}
