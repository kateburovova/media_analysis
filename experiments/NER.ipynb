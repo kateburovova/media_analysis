{
 "cells": [
  {
   "cell_type": "markdown",
   "source": [
    "## Loading data"
   ],
   "metadata": {
    "collapsed": false
   }
  },
  {
   "cell_type": "code",
   "execution_count": 1,
   "outputs": [],
   "source": [
    "import pandas as pd"
   ],
   "metadata": {
    "collapsed": false,
    "ExecuteTime": {
     "end_time": "2023-08-24T09:19:16.319765Z",
     "start_time": "2023-08-24T09:19:14.947485Z"
    }
   }
  },
  {
   "cell_type": "code",
   "execution_count": 2,
   "outputs": [],
   "source": [
    "import nltk\n",
    "import spacy\n",
    "from nltk.util import ngrams\n",
    "import natasha"
   ],
   "metadata": {
    "collapsed": false,
    "ExecuteTime": {
     "end_time": "2023-08-24T09:19:20.450844Z",
     "start_time": "2023-08-24T09:19:17.555456Z"
    }
   }
  },
  {
   "cell_type": "code",
   "execution_count": 3,
   "outputs": [],
   "source": [
    "df_full = pd.read_csv(\"../data/df_5_percent_sample.csv\") # 5% of the whole dataset = frac 0.05, random_state 42"
   ],
   "metadata": {
    "collapsed": false,
    "ExecuteTime": {
     "end_time": "2023-08-24T09:19:26.494400Z",
     "start_time": "2023-08-24T09:19:21.109865Z"
    }
   }
  },
  {
   "cell_type": "code",
   "execution_count": 4,
   "outputs": [],
   "source": [
    "df_full.dropna(subset=['message'], inplace=True)\n",
    "\n",
    "df = df_full.sample(frac=0.1, random_state=42).copy()"
   ],
   "metadata": {
    "collapsed": false,
    "ExecuteTime": {
     "end_time": "2023-08-24T09:19:27.221640Z",
     "start_time": "2023-08-24T09:19:27.148564Z"
    }
   }
  },
  {
   "cell_type": "code",
   "execution_count": 6,
   "outputs": [
    {
     "data": {
      "text/plain": "35068"
     },
     "execution_count": 6,
     "metadata": {},
     "output_type": "execute_result"
    }
   ],
   "source": [
    "len(df) #0.5% from total"
   ],
   "metadata": {
    "collapsed": false,
    "ExecuteTime": {
     "end_time": "2023-08-24T09:20:00.221449Z",
     "start_time": "2023-08-24T09:20:00.200172Z"
    }
   }
  },
  {
   "cell_type": "markdown",
   "source": [
    "## Testing effectiveness and processing speed for spacy and natasha for NER extraction"
   ],
   "metadata": {
    "collapsed": false,
    "ExecuteTime": {
     "end_time": "2023-08-23T14:17:37.031444Z",
     "start_time": "2023-08-23T14:17:37.028141Z"
    }
   }
  },
  {
   "cell_type": "markdown",
   "source": [
    "## Natasha"
   ],
   "metadata": {
    "collapsed": false
   }
  },
  {
   "cell_type": "code",
   "execution_count": 30,
   "outputs": [],
   "source": [
    "from natasha import (\n",
    "    Segmenter,\n",
    "    MorphVocab,\n",
    "    NewsEmbedding,\n",
    "    NewsNERTagger,\n",
    "    NewsMorphTagger,\n",
    "    NewsSyntaxParser,\n",
    "    PER,\n",
    "    NamesExtractor,\n",
    "    Doc\n",
    ")"
   ],
   "metadata": {
    "collapsed": false,
    "ExecuteTime": {
     "end_time": "2023-08-24T09:42:17.265977Z",
     "start_time": "2023-08-24T09:42:17.258113Z"
    }
   }
  },
  {
   "cell_type": "code",
   "execution_count": 32,
   "outputs": [],
   "source": [
    "segmenter = Segmenter()\n",
    "morph_vocab = MorphVocab()\n",
    "emb = NewsEmbedding()\n",
    "morph_tagger = NewsMorphTagger(emb)\n",
    "syntax_parser = NewsSyntaxParser(emb)\n",
    "ner_tagger = NewsNERTagger(emb)\n",
    "names_extractor = NamesExtractor(morph_vocab)"
   ],
   "metadata": {
    "collapsed": false,
    "ExecuteTime": {
     "end_time": "2023-08-24T09:43:09.970554Z",
     "start_time": "2023-08-24T09:43:09.506604Z"
    }
   }
  },
  {
   "cell_type": "code",
   "execution_count": 33,
   "outputs": [],
   "source": [
    "text = \"Москве - столица России и одна из крупнейших помоек в мире.\"\n",
    "doc = Doc(text)\n",
    "doc.segment(segmenter)\n",
    "doc.tag_morph(morph_tagger)\n",
    "doc.parse_syntax(syntax_parser)\n",
    "doc.tag_ner(ner_tagger)"
   ],
   "metadata": {
    "collapsed": false,
    "ExecuteTime": {
     "end_time": "2023-08-24T09:43:10.123371Z",
     "start_time": "2023-08-24T09:43:10.092839Z"
    }
   }
  },
  {
   "cell_type": "code",
   "execution_count": 61,
   "outputs": [
    {
     "name": "stdout",
     "output_type": "stream",
     "text": [
      "Москва [LOC, MorphMarkup(tokens=[MorphToken(text='Москве', pos='PROPN', feats={'Animacy': 'Inan', 'Case': 'Loc', 'Gender': 'Fem', 'Number': 'Sing'}), MorphToken(text='-', pos='PUNCT', feats={}), MorphToken(text='столица', pos='NOUN', feats={'Animacy': 'Inan', 'Case': 'Nom', 'Gender': 'Fem', 'Number': 'Sing'}), MorphToken(text='России', pos='PROPN', feats={'Animacy': 'Inan', 'Case': 'Gen', 'Gender': 'Fem', 'Number': 'Sing'}), MorphToken(text='и', pos='CCONJ', feats={}), MorphToken(text='одна', pos='NUM', feats={'Case': 'Nom', 'Gender': 'Fem', 'Number': 'Sing'}), MorphToken(text='из', pos='ADP', feats={}), MorphToken(text='крупнейших', pos='ADJ', feats={'Case': 'Gen', 'Degree': 'Sup', 'Number': 'Plur'}), MorphToken(text='помоек', pos='NOUN', feats={'Animacy': 'Inan', 'Case': 'Gen', 'Gender': 'Fem', 'Number': 'Plur'}), MorphToken(text='в', pos='ADP', feats={}), MorphToken(text='мире', pos='NOUN', feats={'Animacy': 'Inan', 'Case': 'Loc', 'Gender': 'Masc', 'Number': 'Sing'}), MorphToken(text='.', pos='PUNCT', feats={})])]\n",
      "Россия [LOC, MorphMarkup(tokens=[MorphToken(text='Москве', pos='PROPN', feats={'Animacy': 'Inan', 'Case': 'Loc', 'Gender': 'Fem', 'Number': 'Sing'}), MorphToken(text='-', pos='PUNCT', feats={}), MorphToken(text='столица', pos='NOUN', feats={'Animacy': 'Inan', 'Case': 'Nom', 'Gender': 'Fem', 'Number': 'Sing'}), MorphToken(text='России', pos='PROPN', feats={'Animacy': 'Inan', 'Case': 'Gen', 'Gender': 'Fem', 'Number': 'Sing'}), MorphToken(text='и', pos='CCONJ', feats={}), MorphToken(text='одна', pos='NUM', feats={'Case': 'Nom', 'Gender': 'Fem', 'Number': 'Sing'}), MorphToken(text='из', pos='ADP', feats={}), MorphToken(text='крупнейших', pos='ADJ', feats={'Case': 'Gen', 'Degree': 'Sup', 'Number': 'Plur'}), MorphToken(text='помоек', pos='NOUN', feats={'Animacy': 'Inan', 'Case': 'Gen', 'Gender': 'Fem', 'Number': 'Plur'}), MorphToken(text='в', pos='ADP', feats={}), MorphToken(text='мире', pos='NOUN', feats={'Animacy': 'Inan', 'Case': 'Loc', 'Gender': 'Masc', 'Number': 'Sing'}), MorphToken(text='.', pos='PUNCT', feats={})])]\n"
     ]
    }
   ],
   "source": [
    "for span in doc.spans:\n",
    "    span.normalize(morph_vocab)\n",
    "    print(f\"{span.normal} [{span.type}, {doc.sents[0].morph}]\")"
   ],
   "metadata": {
    "collapsed": false,
    "ExecuteTime": {
     "end_time": "2023-08-24T10:18:44.147885Z",
     "start_time": "2023-08-24T10:18:44.142257Z"
    }
   }
  },
  {
   "cell_type": "code",
   "execution_count": 56,
   "outputs": [],
   "source": [
    "def extract_NER_natasha(text):\n",
    "    if not isinstance(text, str):\n",
    "        return []\n",
    "    doc = Doc(text)\n",
    "    doc.segment(segmenter)\n",
    "    doc.tag_morph(morph_tagger)\n",
    "    doc.parse_syntax(syntax_parser)\n",
    "    doc.tag_ner(ner_tagger)\n",
    "    for span in doc.spans:\n",
    "        span.normalize(morph_vocab)\n",
    "    return [(span.normal, span.type) for span in doc.spans]"
   ],
   "metadata": {
    "collapsed": false,
    "ExecuteTime": {
     "end_time": "2023-08-24T10:16:45.886003Z",
     "start_time": "2023-08-24T10:16:45.874197Z"
    }
   }
  },
  {
   "cell_type": "code",
   "execution_count": 55,
   "outputs": [],
   "source": [
    "def apply_ner_to_dataframe(df, column_name):\n",
    "    return df[column_name].apply(extract_NER_natasha)"
   ],
   "metadata": {
    "collapsed": false,
    "ExecuteTime": {
     "end_time": "2023-08-24T10:16:41.148162Z",
     "start_time": "2023-08-24T10:16:41.138764Z"
    }
   }
  },
  {
   "cell_type": "code",
   "execution_count": 38,
   "outputs": [
    {
     "name": "stdout",
     "output_type": "stream",
     "text": [
      "Execution time: 419.5577 seconds\n"
     ]
    }
   ],
   "source": [
    "import time\n",
    "\n",
    "start_time = time.time()\n",
    "\n",
    "df['NER_Natasha_norm'] = apply_ner_to_dataframe(df, 'message')\n",
    "\n",
    "print(f\"Execution time: {time.time() - start_time:.4f} seconds\")"
   ],
   "metadata": {
    "collapsed": false,
    "ExecuteTime": {
     "end_time": "2023-08-24T10:00:36.323104Z",
     "start_time": "2023-08-24T09:53:36.793472Z"
    }
   }
  },
  {
   "cell_type": "code",
   "execution_count": 40,
   "outputs": [
    {
     "name": "stdout",
     "output_type": "stream",
     "text": [
      "Лежат Сталин и Ленин в ванной и вдруг бац, сперма всплывает.\n",
      "- Иосиф, это ты кончил или пернул?\n",
      "- Незнаю, Вова. Историки до сих пор во мнениях не сходятся..\n",
      "[('Ленин', 'PER'), ('Иосиф', 'PER'), ('Незнаю', 'PER'), ('Вова', 'PER')]\n"
     ]
    }
   ],
   "source": [
    "df_10 = df.sample(10).copy()\n",
    "\n",
    "print(df_10.iloc[0].message)\n",
    "\n",
    "print(df_10.iloc[0].NER_Natasha_norm)"
   ],
   "metadata": {
    "collapsed": false,
    "ExecuteTime": {
     "end_time": "2023-08-24T10:02:50.758101Z",
     "start_time": "2023-08-24T10:02:50.753983Z"
    }
   }
  },
  {
   "cell_type": "code",
   "execution_count": 51,
   "outputs": [
    {
     "name": "stdout",
     "output_type": "stream",
     "text": [
      "Да, вчера много писали, что по законам современной войны - медиа это второй, а возможно и первый фронт. И начать операцию на Украине в ответ за то, что западные спортивные чиновники обидели нашу золотую девочку Валиеву - это  самое то, что нужно. \n",
      "\n",
      "Причём, дипломаты должны будут так и объяснять - да при чем тут НАТО? Вы Валиеву унизили. За это мы размотаем ваше предполье.\n",
      "\n",
      "И вот теперь оказывается, что Валиева выступить сможет. Но по законам современной войны и медиавойны, по законам мятежвойны, это все не повод отменить вторжение. \"Ты извинился, но сделал это без уважения\". \n",
      "\n",
      "Ну или пусть не вторжение, и без него модно создать напряжение. Второй информационный фронт  всемирной мятежвойны. Самое время завирусить в интернете (а лучше в Телеграме у русских военкоров) видео, где русские лётчики пишут на бомбах \"За Камиллу Валиеву\".\n",
      "\n",
      "А на ракетах артиллеристы пишут \"За жирафа Мариуса\".\n",
      "\n",
      "Репутация злопамятных и непрощающих парней без тормозов - это ценно. Тем более, что они на Западе начитались Достоевского с Бердяевым, и думают, что русское это обязательно рефлексия и всепрощение.\n",
      "\n",
      "Пора переучивать. \n",
      "Однако, шутки шутками, а как я писал, Стояние на Угре 2.0 просто так не закончится. Где-то прорвёт. Не факт, что войной. Но тут закон физики, инерция.  А это, как мы помним, сохранение скорости тела при уравновешенных внешних силах. \n",
      "\n",
      "https://t.me/vysokygovorit/5678\n",
      "[('Украина', 'LOC'), ('Валиеву', 'PER'), ('НАТО', 'ORG'), ('Валиеву', 'PER'), ('Валиева', 'PER'), ('Телеграм', 'ORG'), ('Запад', 'LOC'), ('Достоевский', 'PER'), ('Бердяев', 'PER')]\n"
     ]
    }
   ],
   "source": [
    "df_10 = df.sample(10).copy()\n",
    "\n",
    "print(df_10.iloc[0].message)\n",
    "\n",
    "print(df_10.iloc[0].NER_Natasha_norm)"
   ],
   "metadata": {
    "collapsed": false,
    "ExecuteTime": {
     "end_time": "2023-08-24T10:04:32.252220Z",
     "start_time": "2023-08-24T10:04:32.231832Z"
    }
   }
  },
  {
   "cell_type": "code",
   "execution_count": 52,
   "outputs": [
    {
     "name": "stdout",
     "output_type": "stream",
     "text": [
      "Plural form: валиевым\n",
      "Genitive form: валиева\n",
      "Dative form: валиеву\n"
     ]
    }
   ],
   "source": [
    "import pymorphy2\n",
    "morph = pymorphy2.MorphAnalyzer()\n",
    "word = \"Валиеву\"\n",
    "\n",
    "parsed_word = morph.parse(word)[0]\n",
    "\n",
    "plural_form = parsed_word.inflect({'plur'})\n",
    "print(f\"Plural form: {plural_form.word}\")\n",
    "\n",
    "genitive_form = parsed_word.inflect({'gent'})\n",
    "print(f\"Genitive form: {genitive_form.word}\")\n",
    "\n",
    "dative_form = parsed_word.inflect({'datv'})\n",
    "print(f\"Dative form: {dative_form.word}\")"
   ],
   "metadata": {
    "collapsed": false,
    "ExecuteTime": {
     "end_time": "2023-08-24T10:14:06.765102Z",
     "start_time": "2023-08-24T10:14:06.685185Z"
    }
   }
  },
  {
   "cell_type": "code",
   "execution_count": 53,
   "outputs": [
    {
     "name": "stdout",
     "output_type": "stream",
     "text": [
      "валиев NOUN,anim,masc,Sgtm,Surn sing,nomn\n",
      "валиева NOUN,anim,masc,Sgtm,Surn sing,gent\n",
      "валиеву NOUN,anim,masc,Sgtm,Surn sing,datv\n",
      "валиева NOUN,anim,masc,Sgtm,Surn sing,accs\n",
      "валиевым NOUN,anim,masc,Sgtm,Surn sing,ablt\n",
      "валиеве NOUN,anim,masc,Sgtm,Surn sing,loct\n",
      "валиева NOUN,anim,femn,Sgtm,Surn sing,nomn\n",
      "валиевой NOUN,anim,femn,Sgtm,Surn sing,gent\n",
      "валиевой NOUN,anim,femn,Sgtm,Surn sing,datv\n",
      "валиеву NOUN,anim,femn,Sgtm,Surn sing,accs\n",
      "валиевой NOUN,anim,femn,Sgtm,Surn sing,ablt\n",
      "валиевой NOUN,anim,femn,Sgtm,Surn sing,loct\n",
      "валиевы NOUN,anim,ms-f,Pltm,Surn plur,nomn\n",
      "валиевых NOUN,anim,ms-f,Pltm,Surn plur,gent\n",
      "валиевым NOUN,anim,ms-f,Pltm,Surn plur,datv\n",
      "валиевых NOUN,anim,ms-f,Pltm,Surn plur,accs\n",
      "валиевыми NOUN,anim,ms-f,Pltm,Surn plur,ablt\n",
      "валиевых NOUN,anim,ms-f,Pltm,Surn plur,loct\n"
     ]
    }
   ],
   "source": [
    "parsed_word = morph.parse(word)[0]\n",
    "all_forms = parsed_word.lexeme\n",
    "for form in all_forms:\n",
    "    print(form.word, form.tag)"
   ],
   "metadata": {
    "collapsed": false,
    "ExecuteTime": {
     "end_time": "2023-08-24T10:15:00.408896Z",
     "start_time": "2023-08-24T10:15:00.397041Z"
    }
   }
  },
  {
   "cell_type": "code",
   "execution_count": 65,
   "outputs": [
    {
     "name": "stdout",
     "output_type": "stream",
     "text": [
      "🇷🇺🇺🇦 Брифинг Минобороны России (17.04.2022 г.)\n",
      "\n",
      "◽️ Вооруженные Силы Российской Федерации продолжают специальную военную операцию на Украине.\n",
      " \n",
      "💥 В течение дня высокоточными ракетами воздушного базирования в районе населенных пунктов БАРВЕНКОВО и ДОБРОПОЛЬЕ уничтожены хранилища горюче-смазочных материалов и боеприпасов.\n",
      " \n",
      "💥 Оперативно-тактической авиацией уничтожены 44 военных объектов Украины. Среди них: в районе АВДЕЕВКА два командных пункта и локатор подсвета и наведения целей зенитного ракетного комплекса С-300; в районах ЗАВГОРОДНЕЕ и ПРОТОПОПОВКА уничтожено три склада ракетно-артиллерийского вооружения; в районах КРАСНЫЙ ЛИМАН, НОВОСЕЛОВКА, РУБЕЖНОЕ, УГЛЕДАР, ПОПАСНАЯ, ПРИШИБ и ГУСАРОВКА 23 места сосредоточения личного состава и украинской военной техники. \n",
      " \n",
      "💥 Ракетными войсками и артиллерией нанесено поражение 113-ти объектам, в том числе: четырем пунктам управления, четырем артиллерийским батареям, двум складам горюче-смазочных материалов и 103-м опорным пунктам и районам сосредоточения живой силы противника.\n",
      " \n",
      "💥 Российскими средствами противовоздушной обороны в районе населенных пунктов ФЕДОРОВКА и ЗАВОДЫ в Харьковской области сбиты в воздухе два украинских самолета МиГ-29; в районе населенного пункта ПРЕОБРАЖЕНСКОЕ Павлоградской области сбит украинский беспилотный летательный аппарат.\n",
      " \n",
      "📊 Всего с начала проведения специальной военной операции уничтожены: 136 самолетов, 471 беспилотный летательный аппарат, 249 зенитных ракетных комплексов, 2308 танков и других боевых бронированных машин, 254 установки реактивных систем залпового огня, 998 орудий полевой артиллерии и минометов, а также 2171 единица специальной военной автомобильной техники.\n",
      "\n",
      "#Минобороны #Россия #Украина @mod_russia\n",
      "[('Минобороны', 'ORG'), ('Россия', 'LOC'), ('Вооруженные Силы', 'ORG'), ('Российская Федерация', 'LOC'), ('Украина', 'LOC'), ('ДОБРОПОЛЬЕ', 'LOC'), ('Украина', 'LOC'), ('АВДЕЕВКА', 'LOC'), ('ЗАВГОРОДНЕЕ', 'LOC'), ('КРАСНЫЙ ЛИМАН', 'ORG'), ('НОВОСЕЛОВКА', 'LOC'), ('РУБЕЖНОЕ', 'LOC'), ('УГЛЕДАР', 'LOC'), ('ПОПАСНАЯ', 'LOC'), ('ПРИШИБ', 'LOC'), ('ФЕДОРОВКА', 'LOC'), ('Харьковская область', 'LOC'), ('ПРЕОБРАЖЕНСКОЕ', 'LOC'), ('Павлоградской область', 'LOC'), ('Минобороны', 'ORG'), ('Россия', 'LOC'), ('Украина', 'LOC')]\n"
     ]
    }
   ],
   "source": [
    "df_10 = df.sample(10).copy()\n",
    "\n",
    "print(df_10.iloc[0].message)\n",
    "\n",
    "print(df_10.iloc[0].NER_Natasha_norm)"
   ],
   "metadata": {
    "collapsed": false,
    "ExecuteTime": {
     "end_time": "2023-08-24T10:24:15.841328Z",
     "start_time": "2023-08-24T10:24:15.835280Z"
    }
   }
  },
  {
   "cell_type": "code",
   "execution_count": 66,
   "outputs": [
    {
     "name": "stdout",
     "output_type": "stream",
     "text": [
      "Одновременно с местными выборами на Украине пройдет общенациональный опрос. На него вынесены 5 вопросов:\n",
      "\n",
      "▪️ нужно ли пожизненное заключение за крупную коррупцию\n",
      "\n",
      "▪️ создать ли в Донбассе свободную экономическую зону\n",
      "\n",
      "▪️ сократить ли Верховную раду с 450 до 300 депутатов\n",
      "\n",
      "▪️ легализовать ли медицинскую марихуану\n",
      "\n",
      "▪️ следует ли пересмотреть Будапештский меморандум, согласно которому Киев отказался от ядерного оружия в обмен на гарантии своей целостности\n",
      "\n",
      "Опрос - в отличие от референдума - консультативный и не будут иметь юридической силы.\n",
      "\n",
      "Оппоненты президента считают это попыткой повысить явку сторонников его партии и повысить ее результат на выборах. Такого же мнения 44% украинцев - еще 44% считают опрос искренней попыткой узнать мнение избирателей (исследование КМИС).\n",
      "\n",
      "Участвовать во всеукраинском опросе сегодня намерены 55% респондентов, не собираются 36%.\n",
      "[('Украина', 'LOC'), ('Донбасс', 'LOC'), ('Верховная рада', 'ORG'), ('Киев', 'LOC'), ('КМИС', 'ORG')]\n"
     ]
    }
   ],
   "source": [
    "df_10 = df.sample(10).copy()\n",
    "\n",
    "print(df_10.iloc[0].message)\n",
    "\n",
    "print(df_10.iloc[0].NER_Natasha_norm)"
   ],
   "metadata": {
    "collapsed": false,
    "ExecuteTime": {
     "end_time": "2023-08-24T10:24:29.609331Z",
     "start_time": "2023-08-24T10:24:29.601571Z"
    }
   }
  },
  {
   "cell_type": "code",
   "execution_count": 68,
   "outputs": [
    {
     "name": "stdout",
     "output_type": "stream",
     "text": [
      "Уххх, и жарким выдался вечерок на Тавриде. Если вы ещё не понимаете о чем мы, то мы вам расскажем. 8 сентября в Крыму открылся молодежный фестиваль для талантливых людей «Таврида. АРТ».\n",
      "\n",
      "На площадке фестиваля под открытым небом встретилось более 5 тыс. участников. И все они собрались для того, чтобы творить. Музыканты, артисты, писатели, художники — все они лица современной Российской культуры. \n",
      "\n",
      "Но и скучать не придётся: в программе обучающие мастер-классы, творческие конкурсы, лекции от победителей конкурсов платформы «Россия — страна возможностей». Держим пари, вы тоже туда захотели?\n",
      "[('Уххх', 'LOC'), ('Крым', 'LOC'), ('Российская культура', 'LOC')]\n"
     ]
    }
   ],
   "source": [
    "df_10 = df.sample(10).copy()\n",
    "\n",
    "print(df_10.iloc[0].message)\n",
    "\n",
    "print(df_10.iloc[0].NER_Natasha_norm)"
   ],
   "metadata": {
    "collapsed": false,
    "ExecuteTime": {
     "end_time": "2023-08-24T10:36:28.172081Z",
     "start_time": "2023-08-24T10:36:28.151179Z"
    }
   }
  },
  {
   "cell_type": "markdown",
   "source": [
    "1. Зброю він не знаходить як NER\n",
    "2. Місспеллінг або еративи вважає Нерами"
   ],
   "metadata": {
    "collapsed": false
   }
  },
  {
   "cell_type": "markdown",
   "source": [
    "### Spacy"
   ],
   "metadata": {
    "collapsed": false,
    "ExecuteTime": {
     "end_time": "2023-08-23T14:25:34.009881Z",
     "start_time": "2023-08-23T14:25:33.989478Z"
    }
   }
  },
  {
   "cell_type": "code",
   "execution_count": 19,
   "outputs": [],
   "source": [
    "nlp = spacy.load('ru_core_news_sm', disable=[\"tagger\", \"parser\"])"
   ],
   "metadata": {
    "collapsed": false,
    "ExecuteTime": {
     "end_time": "2023-08-24T06:48:58.357869Z",
     "start_time": "2023-08-24T06:48:57.635917Z"
    }
   }
  },
  {
   "cell_type": "code",
   "execution_count": 20,
   "outputs": [],
   "source": [
    "text = \"Москва - столица России и одна из крупнейших помоек в мире.\"\n",
    "doc = nlp(text)"
   ],
   "metadata": {
    "collapsed": false,
    "ExecuteTime": {
     "end_time": "2023-08-24T06:48:59.898046Z",
     "start_time": "2023-08-24T06:48:59.879763Z"
    }
   }
  },
  {
   "cell_type": "code",
   "execution_count": 21,
   "outputs": [
    {
     "name": "stdout",
     "output_type": "stream",
     "text": [
      "Москва - столица 0 16 LOC\n",
      "России 17 23 LOC\n"
     ]
    }
   ],
   "source": [
    "for ent in doc.ents:\n",
    "    print(ent.text, ent.start_char, ent.end_char, ent.label_)"
   ],
   "metadata": {
    "collapsed": false,
    "ExecuteTime": {
     "end_time": "2023-08-24T06:49:00.544128Z",
     "start_time": "2023-08-24T06:49:00.535385Z"
    }
   }
  },
  {
   "cell_type": "code",
   "execution_count": 22,
   "outputs": [],
   "source": [
    "def extract_named_entities_spacy(text):\n",
    "    if not isinstance(text, str):\n",
    "        return []\n",
    "\n",
    "    doc = nlp(text)\n",
    "    entities = [(ent.text, ent.label_) for ent in doc.ents]\n",
    "    return entities"
   ],
   "metadata": {
    "collapsed": false,
    "ExecuteTime": {
     "end_time": "2023-08-24T06:49:08.318396Z",
     "start_time": "2023-08-24T06:49:08.308296Z"
    }
   }
  },
  {
   "cell_type": "code",
   "execution_count": 23,
   "outputs": [],
   "source": [
    "def apply_ner_to_dataframe_spacy(df, column_name):\n",
    "    return df[column_name].apply(extract_named_entities_spacy)"
   ],
   "metadata": {
    "collapsed": false,
    "ExecuteTime": {
     "end_time": "2023-08-24T06:49:09.893390Z",
     "start_time": "2023-08-24T06:49:09.884437Z"
    }
   }
  },
  {
   "cell_type": "code",
   "execution_count": 24,
   "outputs": [
    {
     "name": "stdout",
     "output_type": "stream",
     "text": [
      "Execution time: 674.8227 seconds\n"
     ]
    }
   ],
   "source": [
    "# Measure execution time\n",
    "start_time = time.time()\n",
    "\n",
    "# Apply NER\n",
    "df['NER_Spacy'] = apply_ner_to_dataframe_spacy(df, 'message')\n",
    "\n",
    "# Print execution time\n",
    "print(f\"Execution time: {time.time() - start_time:.4f} seconds\")"
   ],
   "metadata": {
    "collapsed": false,
    "ExecuteTime": {
     "end_time": "2023-08-24T07:00:27.536961Z",
     "start_time": "2023-08-24T06:49:12.800670Z"
    }
   }
  },
  {
   "cell_type": "code",
   "execution_count": 25,
   "outputs": [
    {
     "data": {
      "text/plain": "        Unnamed: 0.1  Unnamed: 0        id                       date  \\\n50983        2292047       38433   63317.0  2021-08-13 10:18:28+00:00   \n382743       7822300      294657  144430.0  2019-05-13 07:12:18+00:00   \n155945       5193712       43704   57759.0  2021-12-30 14:50:09+00:00   \n201495       6977027       32669    9918.0  2019-12-29 14:13:49+00:00   \n60554        2972354        6999    9525.0  2020-05-09 08:56:33+00:00   \n316373       3689082        2698   12039.0  2022-03-19 13:42:19+00:00   \n383953       5224048       74040   26894.0  2020-11-02 10:39:17+00:00   \n370080       2904775       11412    5413.0  2020-10-19 09:05:26+00:00   \n323916       5485778       74660    1221.0  2018-07-28 05:41:08+00:00   \n260134       6571338         891     506.0  2022-05-17 09:04:21+00:00   \n321906       4424387       25244  119576.0  2022-08-05 04:09:02+00:00   \n166016       2341389       87775   12929.0  2018-12-03 21:17:44+00:00   \n268288       4309676       25887   80188.0  2021-05-12 11:16:51+00:00   \n57109        6161111        8870   20348.0  2022-08-18 19:18:28+00:00   \n95287        6614724       10202   11560.0  2020-09-16 12:15:17+00:00   \n210202        688256        2835    7442.0  2022-02-25 15:37:38+00:00   \n267796       5894347        2931     167.0  2018-03-16 16:04:07+00:00   \n385461       2728467       11708   32612.0  2022-10-17 07:57:37+00:00   \n25149        7569215       41572  404641.0  2022-07-23 05:04:08+00:00   \n10974        6976619       32261   10335.0  2020-01-13 22:47:16+00:00   \n\n           views                                          reactions  \\\n50983     8322.0                                                NaN   \n382743       1.0                                                NaN   \n155945    7582.0  MessageReactions(results=[ReactionCount(reacti...   \n201495       6.0                                                NaN   \n60554    30058.0                                                NaN   \n316373  111372.0  MessageReactions(results=[ReactionCount(reacti...   \n383953    5614.0                                                NaN   \n370080    4405.0                                                NaN   \n323916       1.0                                                NaN   \n260134  221375.0  MessageReactions(results=[ReactionCount(reacti...   \n321906  412188.0  MessageReactions(results=[ReactionCount(reacti...   \n166016   13384.0                                                NaN   \n268288   10585.0                                                NaN   \n57109     3288.0  MessageReactions(results=[ReactionCount(reacti...   \n95287      917.0                                                NaN   \n210202   37455.0                                                NaN   \n267796   45313.0  MessageReactions(results=[ReactionCount(reacti...   \n385461  145360.0  MessageReactions(results=[ReactionCount(reacti...   \n25149    15984.0                                                NaN   \n10974        2.0                                                NaN   \n\n                                     to_id  \\\n50983   PeerChannel(channel_id=1046446760)   \n382743  PeerChannel(channel_id=1082084045)   \n155945  PeerChannel(channel_id=1111072403)   \n201495  PeerChannel(channel_id=1283359437)   \n60554   PeerChannel(channel_id=1109145894)   \n316373  PeerChannel(channel_id=1004504016)   \n383953  PeerChannel(channel_id=1111072403)   \n370080  PeerChannel(channel_id=1120807475)   \n323916  PeerChannel(channel_id=1216878621)   \n260134  PeerChannel(channel_id=1595839251)   \n321906  PeerChannel(channel_id=1315735637)   \n166016  PeerChannel(channel_id=1046446760)   \n268288  PeerChannel(channel_id=1054549314)   \n57109   PeerChannel(channel_id=1138542535)   \n95287   PeerChannel(channel_id=1134554551)   \n210202  PeerChannel(channel_id=1042737298)   \n267796  PeerChannel(channel_id=1141171940)   \n385461  PeerChannel(channel_id=1453804949)   \n25149   PeerChannel(channel_id=1082084045)   \n10974   PeerChannel(channel_id=1283359437)   \n\n                                                 fwd_from  \\\n50983                                                 NaN   \n382743  MessageFwdHeader(date=datetime.datetime(2019, ...   \n155945                                                NaN   \n201495  MessageFwdHeader(date=datetime.datetime(2019, ...   \n60554                                                 NaN   \n316373                                                NaN   \n383953                                                NaN   \n370080                                                NaN   \n323916  MessageFwdHeader(date=datetime.datetime(2018, ...   \n260134                                                NaN   \n321906                                                NaN   \n166016                                                NaN   \n268288                                                NaN   \n57109                                                 NaN   \n95287   MessageFwdHeader(date=datetime.datetime(2020, ...   \n210202                                                NaN   \n267796                                                NaN   \n385461                                                NaN   \n25149   MessageFwdHeader(date=datetime.datetime(2022, ...   \n10974   MessageFwdHeader(date=datetime.datetime(2020, ...   \n\n                                                  message   type  duration  \\\n50983   Сын Байдена рассказал русской проститутке, что...  photo       NaN   \n382743  Для россиян зарплата не главное, узнал ВЦИОМ. ...   text       NaN   \n155945  За отмену молодежного чемпионата мира по хокке...  photo       NaN   \n201495  Украина — воистину пример свободы и демократии...  photo       NaN   \n60554   ​​С Днем Победы!\\n\\nМедиатехнолог поздравляет ...  photo       NaN   \n316373  Возможно, назрела необходимость как-то на зако...  photo       NaN   \n383953  ❗️Премьер-министр РФ Михаил Мишустин подписал ...   text       NaN   \n370080  Бойцы УНА-УНСО в Грузии. \\n90-е годы.\\n\\nФото ...  photo       NaN   \n323916  Так с кем все-таки сливаются эсеры с ЛДПР или ...   text       NaN   \n260134  Главное из утреннего брифинга Минобороны Росси...   text       NaN   \n321906  🔴 ФОРМУЛА СМЫСЛА | СОЛОВЬЁВ LIVE\\n\\n«Формула С...   text       NaN   \n166016  Обладатель «Золотого мяча 2018» — 33-летний по...  photo       NaN   \n268288  В Москву эвакуируют девять пострадавших при ст...   text       NaN   \n57109   ❗️По неподтверждённым данным взрывы гремят на ...   text       NaN   \n95287   Есть вопросы.\\n\\nПочему человек, сидевший за у...   text       NaN   \n210202  Песков: Украина «взяла паузу» и не выходит на ...   text       NaN   \n267796  До выборов Президента России остаётся  всего о...   text       NaN   \n385461  📹🇷🇺🇺🇦Вернувшиеся из украинского плена 11 военн...  video     126.0   \n25149   В Белом доме сообщили, что Джо Байден съел вес...  photo       NaN   \n10974   5 лет киевляне жаловались на своего мэра Витал...  video     127.0   \n\n           channel_name frw_from_title frw_from_name msg_entity  \\\n50983             tv360            NaN           NaN        NaN   \n382743         karaulny            NaN           NaN        NaN   \n155945         truekpru            NaN           NaN        NaN   \n201495   voenkorKotenok            NaN           NaN        NaN   \n60554         mediatech            NaN           NaN        NaN   \n316373       otsuka_bld            NaN           NaN        NaN   \n383953         truekpru            NaN           NaN        NaN   \n370080  vladlentatarsky            NaN           NaN        NaN   \n323916         vibornyk            NaN           NaN        NaN   \n260134    milchronicles            NaN           NaN        NaN   \n321906     SolovievLive            NaN           NaN        NaN   \n166016            tv360            NaN           NaN        NaN   \n268288          ntvnews            NaN           NaN        NaN   \n57109         regnum_na            NaN           NaN        NaN   \n95287          Baronova            NaN           NaN        NaN   \n210202      mediazzzona            NaN           NaN        NaN   \n267796      RKadyrov_95            NaN           NaN        NaN   \n385461     OstashkoNews            NaN           NaN        NaN   \n25149          karaulny            NaN           NaN        NaN   \n10974    voenkorKotenok            NaN           NaN        NaN   \n\n                                              NER_Natasha  \\\n50983            [(Байдена, PER), (СМИ, ORG), (США, LOC)]   \n382743                      [(ВЦИОМ, ORG), (ВЦИОМе, ORG)]   \n155945  [(Канада, LOC), (Геннадий Онищенко, PER), (КП ...   \n201495  [(Украина, LOC), (Олесь Бузина, PER), (СИЗО, O...   \n60554   [(Медиатехнолог, PER), (Белоруссии, LOC), (Бер...   \n316373                             [(ТГК «Дабл Ять, ORG)]   \n383953                [(РФ, LOC), (Михаил Мишустин, PER)]   \n370080                   [(УНА-УНСО, ORG), (Грузии, LOC)]   \n323916  [(ЛДПР, ORG), (Родиной, LOC), (Пенсионерами, L...   \n260134  [(Минобороны, ORG), (России, LOC), (Азов, ORG)...   \n321906  [(Дмитрием Куликовым, PER), (Леонтьев\\n🔺Евгени...   \n166016  [(Реала, ORG), (Хорватии, LOC), (Лука Модрич, ...   \n268288                    [(Москву, LOC), (Мурашко, PER)]   \n57109                      [(Бельбек, LOC), (Крыму, LOC)]   \n95287                                                  []   \n210202  [(Украина, LOC), (Путина, PER), (Минске, LOC),...   \n267796  [(России, LOC), (Чечню, LOC), (Алексея Навальн...   \n385461           [(ЛНР, LOC), (ЛНР, LOC), (Осташко, PER)]   \n25149   [(Белом доме, LOC), (Джо Байден, PER), (Белого...   \n10974   [(Виталия Кличко, PER), (Виталя, PER), (Киеве,...   \n\n                                                NER_Spacy  \n50983            [(Байдена, PER), (СМИ, ORG), (США, LOC)]  \n382743                      [(ВЦИОМ, ORG), (ВЦИОМе, ORG)]  \n155945  [(Канада, LOC), (Геннадий Онищенко, PER), (КП ...  \n201495  [(Украина, LOC), (Олесь Бузина, PER), (СИЗО, O...  \n60554   [(Белоруссии, LOC), (ужасы, ORG), (броске, LOC...  \n316373                                                 []  \n383953                [(РФ, LOC), (Михаил Мишустин, PER)]  \n370080     [(УНА-УНСО, ORG), (Грузии, LOC), (Война, PER)]  \n323916  [(ЛДПР, ORG), (Родиной, PER), (Пенсионерами, P...  \n260134  [(Минобороны, ORG), (России, LOC), (Азов, ORG)...  \n321906  [(ФОРМУЛА СМЫСЛА | СОЛОВЬЁВ LIVE\\n\\n«, ORG), (...  \n166016  [(Реала, ORG), (Хорватии, LOC), (Лука Модрич, ...  \n268288                    [(Москву, LOC), (Мурашко, PER)]  \n57109            [(❗, ORG), (Бельбек, ORG), (Крыму, LOC)]  \n95287                                                  []  \n210202  [(Песков, PER), (Украина, LOC), (Путина, PER),...  \n267796  [(России, LOC), (Чечню, LOC), (Алексея Навальн...  \n385461                           [(ЛНР, LOC), (ЛНР, LOC)]  \n25149   [(Белом доме, LOC), (Джо Байден, PER), (Белого...  \n10974   [(Виталия Кличко, PER), (Виталя, PER), (Киеве,...  ",
      "text/html": "<div>\n<style scoped>\n    .dataframe tbody tr th:only-of-type {\n        vertical-align: middle;\n    }\n\n    .dataframe tbody tr th {\n        vertical-align: top;\n    }\n\n    .dataframe thead th {\n        text-align: right;\n    }\n</style>\n<table border=\"1\" class=\"dataframe\">\n  <thead>\n    <tr style=\"text-align: right;\">\n      <th></th>\n      <th>Unnamed: 0.1</th>\n      <th>Unnamed: 0</th>\n      <th>id</th>\n      <th>date</th>\n      <th>views</th>\n      <th>reactions</th>\n      <th>to_id</th>\n      <th>fwd_from</th>\n      <th>message</th>\n      <th>type</th>\n      <th>duration</th>\n      <th>channel_name</th>\n      <th>frw_from_title</th>\n      <th>frw_from_name</th>\n      <th>msg_entity</th>\n      <th>NER_Natasha</th>\n      <th>NER_Spacy</th>\n    </tr>\n  </thead>\n  <tbody>\n    <tr>\n      <th>50983</th>\n      <td>2292047</td>\n      <td>38433</td>\n      <td>63317.0</td>\n      <td>2021-08-13 10:18:28+00:00</td>\n      <td>8322.0</td>\n      <td>NaN</td>\n      <td>PeerChannel(channel_id=1046446760)</td>\n      <td>NaN</td>\n      <td>Сын Байдена рассказал русской проститутке, что...</td>\n      <td>photo</td>\n      <td>NaN</td>\n      <td>tv360</td>\n      <td>NaN</td>\n      <td>NaN</td>\n      <td>NaN</td>\n      <td>[(Байдена, PER), (СМИ, ORG), (США, LOC)]</td>\n      <td>[(Байдена, PER), (СМИ, ORG), (США, LOC)]</td>\n    </tr>\n    <tr>\n      <th>382743</th>\n      <td>7822300</td>\n      <td>294657</td>\n      <td>144430.0</td>\n      <td>2019-05-13 07:12:18+00:00</td>\n      <td>1.0</td>\n      <td>NaN</td>\n      <td>PeerChannel(channel_id=1082084045)</td>\n      <td>MessageFwdHeader(date=datetime.datetime(2019, ...</td>\n      <td>Для россиян зарплата не главное, узнал ВЦИОМ. ...</td>\n      <td>text</td>\n      <td>NaN</td>\n      <td>karaulny</td>\n      <td>NaN</td>\n      <td>NaN</td>\n      <td>NaN</td>\n      <td>[(ВЦИОМ, ORG), (ВЦИОМе, ORG)]</td>\n      <td>[(ВЦИОМ, ORG), (ВЦИОМе, ORG)]</td>\n    </tr>\n    <tr>\n      <th>155945</th>\n      <td>5193712</td>\n      <td>43704</td>\n      <td>57759.0</td>\n      <td>2021-12-30 14:50:09+00:00</td>\n      <td>7582.0</td>\n      <td>MessageReactions(results=[ReactionCount(reacti...</td>\n      <td>PeerChannel(channel_id=1111072403)</td>\n      <td>NaN</td>\n      <td>За отмену молодежного чемпионата мира по хокке...</td>\n      <td>photo</td>\n      <td>NaN</td>\n      <td>truekpru</td>\n      <td>NaN</td>\n      <td>NaN</td>\n      <td>NaN</td>\n      <td>[(Канада, LOC), (Геннадий Онищенко, PER), (КП ...</td>\n      <td>[(Канада, LOC), (Геннадий Онищенко, PER), (КП ...</td>\n    </tr>\n    <tr>\n      <th>201495</th>\n      <td>6977027</td>\n      <td>32669</td>\n      <td>9918.0</td>\n      <td>2019-12-29 14:13:49+00:00</td>\n      <td>6.0</td>\n      <td>NaN</td>\n      <td>PeerChannel(channel_id=1283359437)</td>\n      <td>MessageFwdHeader(date=datetime.datetime(2019, ...</td>\n      <td>Украина — воистину пример свободы и демократии...</td>\n      <td>photo</td>\n      <td>NaN</td>\n      <td>voenkorKotenok</td>\n      <td>NaN</td>\n      <td>NaN</td>\n      <td>NaN</td>\n      <td>[(Украина, LOC), (Олесь Бузина, PER), (СИЗО, O...</td>\n      <td>[(Украина, LOC), (Олесь Бузина, PER), (СИЗО, O...</td>\n    </tr>\n    <tr>\n      <th>60554</th>\n      <td>2972354</td>\n      <td>6999</td>\n      <td>9525.0</td>\n      <td>2020-05-09 08:56:33+00:00</td>\n      <td>30058.0</td>\n      <td>NaN</td>\n      <td>PeerChannel(channel_id=1109145894)</td>\n      <td>NaN</td>\n      <td>​​С Днем Победы!\\n\\nМедиатехнолог поздравляет ...</td>\n      <td>photo</td>\n      <td>NaN</td>\n      <td>mediatech</td>\n      <td>NaN</td>\n      <td>NaN</td>\n      <td>NaN</td>\n      <td>[(Медиатехнолог, PER), (Белоруссии, LOC), (Бер...</td>\n      <td>[(Белоруссии, LOC), (ужасы, ORG), (броске, LOC...</td>\n    </tr>\n    <tr>\n      <th>316373</th>\n      <td>3689082</td>\n      <td>2698</td>\n      <td>12039.0</td>\n      <td>2022-03-19 13:42:19+00:00</td>\n      <td>111372.0</td>\n      <td>MessageReactions(results=[ReactionCount(reacti...</td>\n      <td>PeerChannel(channel_id=1004504016)</td>\n      <td>NaN</td>\n      <td>Возможно, назрела необходимость как-то на зако...</td>\n      <td>photo</td>\n      <td>NaN</td>\n      <td>otsuka_bld</td>\n      <td>NaN</td>\n      <td>NaN</td>\n      <td>NaN</td>\n      <td>[(ТГК «Дабл Ять, ORG)]</td>\n      <td>[]</td>\n    </tr>\n    <tr>\n      <th>383953</th>\n      <td>5224048</td>\n      <td>74040</td>\n      <td>26894.0</td>\n      <td>2020-11-02 10:39:17+00:00</td>\n      <td>5614.0</td>\n      <td>NaN</td>\n      <td>PeerChannel(channel_id=1111072403)</td>\n      <td>NaN</td>\n      <td>❗️Премьер-министр РФ Михаил Мишустин подписал ...</td>\n      <td>text</td>\n      <td>NaN</td>\n      <td>truekpru</td>\n      <td>NaN</td>\n      <td>NaN</td>\n      <td>NaN</td>\n      <td>[(РФ, LOC), (Михаил Мишустин, PER)]</td>\n      <td>[(РФ, LOC), (Михаил Мишустин, PER)]</td>\n    </tr>\n    <tr>\n      <th>370080</th>\n      <td>2904775</td>\n      <td>11412</td>\n      <td>5413.0</td>\n      <td>2020-10-19 09:05:26+00:00</td>\n      <td>4405.0</td>\n      <td>NaN</td>\n      <td>PeerChannel(channel_id=1120807475)</td>\n      <td>NaN</td>\n      <td>Бойцы УНА-УНСО в Грузии. \\n90-е годы.\\n\\nФото ...</td>\n      <td>photo</td>\n      <td>NaN</td>\n      <td>vladlentatarsky</td>\n      <td>NaN</td>\n      <td>NaN</td>\n      <td>NaN</td>\n      <td>[(УНА-УНСО, ORG), (Грузии, LOC)]</td>\n      <td>[(УНА-УНСО, ORG), (Грузии, LOC), (Война, PER)]</td>\n    </tr>\n    <tr>\n      <th>323916</th>\n      <td>5485778</td>\n      <td>74660</td>\n      <td>1221.0</td>\n      <td>2018-07-28 05:41:08+00:00</td>\n      <td>1.0</td>\n      <td>NaN</td>\n      <td>PeerChannel(channel_id=1216878621)</td>\n      <td>MessageFwdHeader(date=datetime.datetime(2018, ...</td>\n      <td>Так с кем все-таки сливаются эсеры с ЛДПР или ...</td>\n      <td>text</td>\n      <td>NaN</td>\n      <td>vibornyk</td>\n      <td>NaN</td>\n      <td>NaN</td>\n      <td>NaN</td>\n      <td>[(ЛДПР, ORG), (Родиной, LOC), (Пенсионерами, L...</td>\n      <td>[(ЛДПР, ORG), (Родиной, PER), (Пенсионерами, P...</td>\n    </tr>\n    <tr>\n      <th>260134</th>\n      <td>6571338</td>\n      <td>891</td>\n      <td>506.0</td>\n      <td>2022-05-17 09:04:21+00:00</td>\n      <td>221375.0</td>\n      <td>MessageReactions(results=[ReactionCount(reacti...</td>\n      <td>PeerChannel(channel_id=1595839251)</td>\n      <td>NaN</td>\n      <td>Главное из утреннего брифинга Минобороны Росси...</td>\n      <td>text</td>\n      <td>NaN</td>\n      <td>milchronicles</td>\n      <td>NaN</td>\n      <td>NaN</td>\n      <td>NaN</td>\n      <td>[(Минобороны, ORG), (России, LOC), (Азов, ORG)...</td>\n      <td>[(Минобороны, ORG), (России, LOC), (Азов, ORG)...</td>\n    </tr>\n    <tr>\n      <th>321906</th>\n      <td>4424387</td>\n      <td>25244</td>\n      <td>119576.0</td>\n      <td>2022-08-05 04:09:02+00:00</td>\n      <td>412188.0</td>\n      <td>MessageReactions(results=[ReactionCount(reacti...</td>\n      <td>PeerChannel(channel_id=1315735637)</td>\n      <td>NaN</td>\n      <td>🔴 ФОРМУЛА СМЫСЛА | СОЛОВЬЁВ LIVE\\n\\n«Формула С...</td>\n      <td>text</td>\n      <td>NaN</td>\n      <td>SolovievLive</td>\n      <td>NaN</td>\n      <td>NaN</td>\n      <td>NaN</td>\n      <td>[(Дмитрием Куликовым, PER), (Леонтьев\\n🔺Евгени...</td>\n      <td>[(ФОРМУЛА СМЫСЛА | СОЛОВЬЁВ LIVE\\n\\n«, ORG), (...</td>\n    </tr>\n    <tr>\n      <th>166016</th>\n      <td>2341389</td>\n      <td>87775</td>\n      <td>12929.0</td>\n      <td>2018-12-03 21:17:44+00:00</td>\n      <td>13384.0</td>\n      <td>NaN</td>\n      <td>PeerChannel(channel_id=1046446760)</td>\n      <td>NaN</td>\n      <td>Обладатель «Золотого мяча 2018» — 33-летний по...</td>\n      <td>photo</td>\n      <td>NaN</td>\n      <td>tv360</td>\n      <td>NaN</td>\n      <td>NaN</td>\n      <td>NaN</td>\n      <td>[(Реала, ORG), (Хорватии, LOC), (Лука Модрич, ...</td>\n      <td>[(Реала, ORG), (Хорватии, LOC), (Лука Модрич, ...</td>\n    </tr>\n    <tr>\n      <th>268288</th>\n      <td>4309676</td>\n      <td>25887</td>\n      <td>80188.0</td>\n      <td>2021-05-12 11:16:51+00:00</td>\n      <td>10585.0</td>\n      <td>NaN</td>\n      <td>PeerChannel(channel_id=1054549314)</td>\n      <td>NaN</td>\n      <td>В Москву эвакуируют девять пострадавших при ст...</td>\n      <td>text</td>\n      <td>NaN</td>\n      <td>ntvnews</td>\n      <td>NaN</td>\n      <td>NaN</td>\n      <td>NaN</td>\n      <td>[(Москву, LOC), (Мурашко, PER)]</td>\n      <td>[(Москву, LOC), (Мурашко, PER)]</td>\n    </tr>\n    <tr>\n      <th>57109</th>\n      <td>6161111</td>\n      <td>8870</td>\n      <td>20348.0</td>\n      <td>2022-08-18 19:18:28+00:00</td>\n      <td>3288.0</td>\n      <td>MessageReactions(results=[ReactionCount(reacti...</td>\n      <td>PeerChannel(channel_id=1138542535)</td>\n      <td>NaN</td>\n      <td>❗️По неподтверждённым данным взрывы гремят на ...</td>\n      <td>text</td>\n      <td>NaN</td>\n      <td>regnum_na</td>\n      <td>NaN</td>\n      <td>NaN</td>\n      <td>NaN</td>\n      <td>[(Бельбек, LOC), (Крыму, LOC)]</td>\n      <td>[(❗, ORG), (Бельбек, ORG), (Крыму, LOC)]</td>\n    </tr>\n    <tr>\n      <th>95287</th>\n      <td>6614724</td>\n      <td>10202</td>\n      <td>11560.0</td>\n      <td>2020-09-16 12:15:17+00:00</td>\n      <td>917.0</td>\n      <td>NaN</td>\n      <td>PeerChannel(channel_id=1134554551)</td>\n      <td>MessageFwdHeader(date=datetime.datetime(2020, ...</td>\n      <td>Есть вопросы.\\n\\nПочему человек, сидевший за у...</td>\n      <td>text</td>\n      <td>NaN</td>\n      <td>Baronova</td>\n      <td>NaN</td>\n      <td>NaN</td>\n      <td>NaN</td>\n      <td>[]</td>\n      <td>[]</td>\n    </tr>\n    <tr>\n      <th>210202</th>\n      <td>688256</td>\n      <td>2835</td>\n      <td>7442.0</td>\n      <td>2022-02-25 15:37:38+00:00</td>\n      <td>37455.0</td>\n      <td>NaN</td>\n      <td>PeerChannel(channel_id=1042737298)</td>\n      <td>NaN</td>\n      <td>Песков: Украина «взяла паузу» и не выходит на ...</td>\n      <td>text</td>\n      <td>NaN</td>\n      <td>mediazzzona</td>\n      <td>NaN</td>\n      <td>NaN</td>\n      <td>NaN</td>\n      <td>[(Украина, LOC), (Путина, PER), (Минске, LOC),...</td>\n      <td>[(Песков, PER), (Украина, LOC), (Путина, PER),...</td>\n    </tr>\n    <tr>\n      <th>267796</th>\n      <td>5894347</td>\n      <td>2931</td>\n      <td>167.0</td>\n      <td>2018-03-16 16:04:07+00:00</td>\n      <td>45313.0</td>\n      <td>MessageReactions(results=[ReactionCount(reacti...</td>\n      <td>PeerChannel(channel_id=1141171940)</td>\n      <td>NaN</td>\n      <td>До выборов Президента России остаётся  всего о...</td>\n      <td>text</td>\n      <td>NaN</td>\n      <td>RKadyrov_95</td>\n      <td>NaN</td>\n      <td>NaN</td>\n      <td>NaN</td>\n      <td>[(России, LOC), (Чечню, LOC), (Алексея Навальн...</td>\n      <td>[(России, LOC), (Чечню, LOC), (Алексея Навальн...</td>\n    </tr>\n    <tr>\n      <th>385461</th>\n      <td>2728467</td>\n      <td>11708</td>\n      <td>32612.0</td>\n      <td>2022-10-17 07:57:37+00:00</td>\n      <td>145360.0</td>\n      <td>MessageReactions(results=[ReactionCount(reacti...</td>\n      <td>PeerChannel(channel_id=1453804949)</td>\n      <td>NaN</td>\n      <td>📹🇷🇺🇺🇦Вернувшиеся из украинского плена 11 военн...</td>\n      <td>video</td>\n      <td>126.0</td>\n      <td>OstashkoNews</td>\n      <td>NaN</td>\n      <td>NaN</td>\n      <td>NaN</td>\n      <td>[(ЛНР, LOC), (ЛНР, LOC), (Осташко, PER)]</td>\n      <td>[(ЛНР, LOC), (ЛНР, LOC)]</td>\n    </tr>\n    <tr>\n      <th>25149</th>\n      <td>7569215</td>\n      <td>41572</td>\n      <td>404641.0</td>\n      <td>2022-07-23 05:04:08+00:00</td>\n      <td>15984.0</td>\n      <td>NaN</td>\n      <td>PeerChannel(channel_id=1082084045)</td>\n      <td>MessageFwdHeader(date=datetime.datetime(2022, ...</td>\n      <td>В Белом доме сообщили, что Джо Байден съел вес...</td>\n      <td>photo</td>\n      <td>NaN</td>\n      <td>karaulny</td>\n      <td>NaN</td>\n      <td>NaN</td>\n      <td>NaN</td>\n      <td>[(Белом доме, LOC), (Джо Байден, PER), (Белого...</td>\n      <td>[(Белом доме, LOC), (Джо Байден, PER), (Белого...</td>\n    </tr>\n    <tr>\n      <th>10974</th>\n      <td>6976619</td>\n      <td>32261</td>\n      <td>10335.0</td>\n      <td>2020-01-13 22:47:16+00:00</td>\n      <td>2.0</td>\n      <td>NaN</td>\n      <td>PeerChannel(channel_id=1283359437)</td>\n      <td>MessageFwdHeader(date=datetime.datetime(2020, ...</td>\n      <td>5 лет киевляне жаловались на своего мэра Витал...</td>\n      <td>video</td>\n      <td>127.0</td>\n      <td>voenkorKotenok</td>\n      <td>NaN</td>\n      <td>NaN</td>\n      <td>NaN</td>\n      <td>[(Виталия Кличко, PER), (Виталя, PER), (Киеве,...</td>\n      <td>[(Виталия Кличко, PER), (Виталя, PER), (Киеве,...</td>\n    </tr>\n  </tbody>\n</table>\n</div>"
     },
     "execution_count": 25,
     "metadata": {},
     "output_type": "execute_result"
    }
   ],
   "source": [
    "df.sample(20)"
   ],
   "metadata": {
    "collapsed": false,
    "ExecuteTime": {
     "end_time": "2023-08-24T07:00:27.708152Z",
     "start_time": "2023-08-24T07:00:27.534491Z"
    }
   }
  },
  {
   "cell_type": "markdown",
   "source": [
    "## NER Normalization"
   ],
   "metadata": {
    "collapsed": false
   }
  },
  {
   "cell_type": "code",
   "execution_count": 31,
   "outputs": [],
   "source": [
    "import razdel\n",
    "import navec\n",
    "import slovnet\n",
    "import pandas"
   ],
   "metadata": {
    "collapsed": false,
    "ExecuteTime": {
     "end_time": "2023-08-24T07:36:30.323097Z",
     "start_time": "2023-08-24T07:36:30.317169Z"
    }
   }
  },
  {
   "cell_type": "code",
   "execution_count": 30,
   "outputs": [
    {
     "ename": "URLError",
     "evalue": "<urlopen error [Errno 8] nodename nor servname provided, or not known>",
     "output_type": "error",
     "traceback": [
      "\u001B[0;31m---------------------------------------------------------------------------\u001B[0m",
      "\u001B[0;31mgaierror\u001B[0m                                  Traceback (most recent call last)",
      "File \u001B[0;32m/Library/Frameworks/Python.framework/Versions/3.10/lib/python3.10/urllib/request.py:1348\u001B[0m, in \u001B[0;36mAbstractHTTPHandler.do_open\u001B[0;34m(self, http_class, req, **http_conn_args)\u001B[0m\n\u001B[1;32m   1347\u001B[0m \u001B[38;5;28;01mtry\u001B[39;00m:\n\u001B[0;32m-> 1348\u001B[0m     \u001B[43mh\u001B[49m\u001B[38;5;241;43m.\u001B[39;49m\u001B[43mrequest\u001B[49m\u001B[43m(\u001B[49m\u001B[43mreq\u001B[49m\u001B[38;5;241;43m.\u001B[39;49m\u001B[43mget_method\u001B[49m\u001B[43m(\u001B[49m\u001B[43m)\u001B[49m\u001B[43m,\u001B[49m\u001B[43m \u001B[49m\u001B[43mreq\u001B[49m\u001B[38;5;241;43m.\u001B[39;49m\u001B[43mselector\u001B[49m\u001B[43m,\u001B[49m\u001B[43m \u001B[49m\u001B[43mreq\u001B[49m\u001B[38;5;241;43m.\u001B[39;49m\u001B[43mdata\u001B[49m\u001B[43m,\u001B[49m\u001B[43m \u001B[49m\u001B[43mheaders\u001B[49m\u001B[43m,\u001B[49m\n\u001B[1;32m   1349\u001B[0m \u001B[43m              \u001B[49m\u001B[43mencode_chunked\u001B[49m\u001B[38;5;241;43m=\u001B[39;49m\u001B[43mreq\u001B[49m\u001B[38;5;241;43m.\u001B[39;49m\u001B[43mhas_header\u001B[49m\u001B[43m(\u001B[49m\u001B[38;5;124;43m'\u001B[39;49m\u001B[38;5;124;43mTransfer-encoding\u001B[39;49m\u001B[38;5;124;43m'\u001B[39;49m\u001B[43m)\u001B[49m\u001B[43m)\u001B[49m\n\u001B[1;32m   1350\u001B[0m \u001B[38;5;28;01mexcept\u001B[39;00m \u001B[38;5;167;01mOSError\u001B[39;00m \u001B[38;5;28;01mas\u001B[39;00m err: \u001B[38;5;66;03m# timeout error\u001B[39;00m\n",
      "File \u001B[0;32m/Library/Frameworks/Python.framework/Versions/3.10/lib/python3.10/http/client.py:1282\u001B[0m, in \u001B[0;36mHTTPConnection.request\u001B[0;34m(self, method, url, body, headers, encode_chunked)\u001B[0m\n\u001B[1;32m   1281\u001B[0m \u001B[38;5;250m\u001B[39m\u001B[38;5;124;03m\"\"\"Send a complete request to the server.\"\"\"\u001B[39;00m\n\u001B[0;32m-> 1282\u001B[0m \u001B[38;5;28;43mself\u001B[39;49m\u001B[38;5;241;43m.\u001B[39;49m\u001B[43m_send_request\u001B[49m\u001B[43m(\u001B[49m\u001B[43mmethod\u001B[49m\u001B[43m,\u001B[49m\u001B[43m \u001B[49m\u001B[43murl\u001B[49m\u001B[43m,\u001B[49m\u001B[43m \u001B[49m\u001B[43mbody\u001B[49m\u001B[43m,\u001B[49m\u001B[43m \u001B[49m\u001B[43mheaders\u001B[49m\u001B[43m,\u001B[49m\u001B[43m \u001B[49m\u001B[43mencode_chunked\u001B[49m\u001B[43m)\u001B[49m\n",
      "File \u001B[0;32m/Library/Frameworks/Python.framework/Versions/3.10/lib/python3.10/http/client.py:1328\u001B[0m, in \u001B[0;36mHTTPConnection._send_request\u001B[0;34m(self, method, url, body, headers, encode_chunked)\u001B[0m\n\u001B[1;32m   1327\u001B[0m     body \u001B[38;5;241m=\u001B[39m _encode(body, \u001B[38;5;124m'\u001B[39m\u001B[38;5;124mbody\u001B[39m\u001B[38;5;124m'\u001B[39m)\n\u001B[0;32m-> 1328\u001B[0m \u001B[38;5;28;43mself\u001B[39;49m\u001B[38;5;241;43m.\u001B[39;49m\u001B[43mendheaders\u001B[49m\u001B[43m(\u001B[49m\u001B[43mbody\u001B[49m\u001B[43m,\u001B[49m\u001B[43m \u001B[49m\u001B[43mencode_chunked\u001B[49m\u001B[38;5;241;43m=\u001B[39;49m\u001B[43mencode_chunked\u001B[49m\u001B[43m)\u001B[49m\n",
      "File \u001B[0;32m/Library/Frameworks/Python.framework/Versions/3.10/lib/python3.10/http/client.py:1277\u001B[0m, in \u001B[0;36mHTTPConnection.endheaders\u001B[0;34m(self, message_body, encode_chunked)\u001B[0m\n\u001B[1;32m   1276\u001B[0m     \u001B[38;5;28;01mraise\u001B[39;00m CannotSendHeader()\n\u001B[0;32m-> 1277\u001B[0m \u001B[38;5;28;43mself\u001B[39;49m\u001B[38;5;241;43m.\u001B[39;49m\u001B[43m_send_output\u001B[49m\u001B[43m(\u001B[49m\u001B[43mmessage_body\u001B[49m\u001B[43m,\u001B[49m\u001B[43m \u001B[49m\u001B[43mencode_chunked\u001B[49m\u001B[38;5;241;43m=\u001B[39;49m\u001B[43mencode_chunked\u001B[49m\u001B[43m)\u001B[49m\n",
      "File \u001B[0;32m/Library/Frameworks/Python.framework/Versions/3.10/lib/python3.10/http/client.py:1037\u001B[0m, in \u001B[0;36mHTTPConnection._send_output\u001B[0;34m(self, message_body, encode_chunked)\u001B[0m\n\u001B[1;32m   1036\u001B[0m \u001B[38;5;28;01mdel\u001B[39;00m \u001B[38;5;28mself\u001B[39m\u001B[38;5;241m.\u001B[39m_buffer[:]\n\u001B[0;32m-> 1037\u001B[0m \u001B[38;5;28;43mself\u001B[39;49m\u001B[38;5;241;43m.\u001B[39;49m\u001B[43msend\u001B[49m\u001B[43m(\u001B[49m\u001B[43mmsg\u001B[49m\u001B[43m)\u001B[49m\n\u001B[1;32m   1039\u001B[0m \u001B[38;5;28;01mif\u001B[39;00m message_body \u001B[38;5;129;01mis\u001B[39;00m \u001B[38;5;129;01mnot\u001B[39;00m \u001B[38;5;28;01mNone\u001B[39;00m:\n\u001B[1;32m   1040\u001B[0m \n\u001B[1;32m   1041\u001B[0m     \u001B[38;5;66;03m# create a consistent interface to message_body\u001B[39;00m\n",
      "File \u001B[0;32m/Library/Frameworks/Python.framework/Versions/3.10/lib/python3.10/http/client.py:975\u001B[0m, in \u001B[0;36mHTTPConnection.send\u001B[0;34m(self, data)\u001B[0m\n\u001B[1;32m    974\u001B[0m \u001B[38;5;28;01mif\u001B[39;00m \u001B[38;5;28mself\u001B[39m\u001B[38;5;241m.\u001B[39mauto_open:\n\u001B[0;32m--> 975\u001B[0m     \u001B[38;5;28;43mself\u001B[39;49m\u001B[38;5;241;43m.\u001B[39;49m\u001B[43mconnect\u001B[49m\u001B[43m(\u001B[49m\u001B[43m)\u001B[49m\n\u001B[1;32m    976\u001B[0m \u001B[38;5;28;01melse\u001B[39;00m:\n",
      "File \u001B[0;32m/Library/Frameworks/Python.framework/Versions/3.10/lib/python3.10/http/client.py:1447\u001B[0m, in \u001B[0;36mHTTPSConnection.connect\u001B[0;34m(self)\u001B[0m\n\u001B[1;32m   1445\u001B[0m \u001B[38;5;124m\"\u001B[39m\u001B[38;5;124mConnect to a host on a given (SSL) port.\u001B[39m\u001B[38;5;124m\"\u001B[39m\n\u001B[0;32m-> 1447\u001B[0m \u001B[38;5;28;43msuper\u001B[39;49m\u001B[43m(\u001B[49m\u001B[43m)\u001B[49m\u001B[38;5;241;43m.\u001B[39;49m\u001B[43mconnect\u001B[49m\u001B[43m(\u001B[49m\u001B[43m)\u001B[49m\n\u001B[1;32m   1449\u001B[0m \u001B[38;5;28;01mif\u001B[39;00m \u001B[38;5;28mself\u001B[39m\u001B[38;5;241m.\u001B[39m_tunnel_host:\n",
      "File \u001B[0;32m/Library/Frameworks/Python.framework/Versions/3.10/lib/python3.10/http/client.py:941\u001B[0m, in \u001B[0;36mHTTPConnection.connect\u001B[0;34m(self)\u001B[0m\n\u001B[1;32m    940\u001B[0m sys\u001B[38;5;241m.\u001B[39maudit(\u001B[38;5;124m\"\u001B[39m\u001B[38;5;124mhttp.client.connect\u001B[39m\u001B[38;5;124m\"\u001B[39m, \u001B[38;5;28mself\u001B[39m, \u001B[38;5;28mself\u001B[39m\u001B[38;5;241m.\u001B[39mhost, \u001B[38;5;28mself\u001B[39m\u001B[38;5;241m.\u001B[39mport)\n\u001B[0;32m--> 941\u001B[0m \u001B[38;5;28mself\u001B[39m\u001B[38;5;241m.\u001B[39msock \u001B[38;5;241m=\u001B[39m \u001B[38;5;28;43mself\u001B[39;49m\u001B[38;5;241;43m.\u001B[39;49m\u001B[43m_create_connection\u001B[49m\u001B[43m(\u001B[49m\n\u001B[1;32m    942\u001B[0m \u001B[43m    \u001B[49m\u001B[43m(\u001B[49m\u001B[38;5;28;43mself\u001B[39;49m\u001B[38;5;241;43m.\u001B[39;49m\u001B[43mhost\u001B[49m\u001B[43m,\u001B[49m\u001B[38;5;28;43mself\u001B[39;49m\u001B[38;5;241;43m.\u001B[39;49m\u001B[43mport\u001B[49m\u001B[43m)\u001B[49m\u001B[43m,\u001B[49m\u001B[43m \u001B[49m\u001B[38;5;28;43mself\u001B[39;49m\u001B[38;5;241;43m.\u001B[39;49m\u001B[43mtimeout\u001B[49m\u001B[43m,\u001B[49m\u001B[43m \u001B[49m\u001B[38;5;28;43mself\u001B[39;49m\u001B[38;5;241;43m.\u001B[39;49m\u001B[43msource_address\u001B[49m\u001B[43m)\u001B[49m\n\u001B[1;32m    943\u001B[0m \u001B[38;5;66;03m# Might fail in OSs that don't implement TCP_NODELAY\u001B[39;00m\n",
      "File \u001B[0;32m/Library/Frameworks/Python.framework/Versions/3.10/lib/python3.10/socket.py:824\u001B[0m, in \u001B[0;36mcreate_connection\u001B[0;34m(address, timeout, source_address)\u001B[0m\n\u001B[1;32m    823\u001B[0m err \u001B[38;5;241m=\u001B[39m \u001B[38;5;28;01mNone\u001B[39;00m\n\u001B[0;32m--> 824\u001B[0m \u001B[38;5;28;01mfor\u001B[39;00m res \u001B[38;5;129;01min\u001B[39;00m \u001B[43mgetaddrinfo\u001B[49m\u001B[43m(\u001B[49m\u001B[43mhost\u001B[49m\u001B[43m,\u001B[49m\u001B[43m \u001B[49m\u001B[43mport\u001B[49m\u001B[43m,\u001B[49m\u001B[43m \u001B[49m\u001B[38;5;241;43m0\u001B[39;49m\u001B[43m,\u001B[49m\u001B[43m \u001B[49m\u001B[43mSOCK_STREAM\u001B[49m\u001B[43m)\u001B[49m:\n\u001B[1;32m    825\u001B[0m     af, socktype, proto, canonname, sa \u001B[38;5;241m=\u001B[39m res\n",
      "File \u001B[0;32m/Library/Frameworks/Python.framework/Versions/3.10/lib/python3.10/socket.py:955\u001B[0m, in \u001B[0;36mgetaddrinfo\u001B[0;34m(host, port, family, type, proto, flags)\u001B[0m\n\u001B[1;32m    954\u001B[0m addrlist \u001B[38;5;241m=\u001B[39m []\n\u001B[0;32m--> 955\u001B[0m \u001B[38;5;28;01mfor\u001B[39;00m res \u001B[38;5;129;01min\u001B[39;00m \u001B[43m_socket\u001B[49m\u001B[38;5;241;43m.\u001B[39;49m\u001B[43mgetaddrinfo\u001B[49m\u001B[43m(\u001B[49m\u001B[43mhost\u001B[49m\u001B[43m,\u001B[49m\u001B[43m \u001B[49m\u001B[43mport\u001B[49m\u001B[43m,\u001B[49m\u001B[43m \u001B[49m\u001B[43mfamily\u001B[49m\u001B[43m,\u001B[49m\u001B[43m \u001B[49m\u001B[38;5;28;43mtype\u001B[39;49m\u001B[43m,\u001B[49m\u001B[43m \u001B[49m\u001B[43mproto\u001B[49m\u001B[43m,\u001B[49m\u001B[43m \u001B[49m\u001B[43mflags\u001B[49m\u001B[43m)\u001B[49m:\n\u001B[1;32m    956\u001B[0m     af, socktype, proto, canonname, sa \u001B[38;5;241m=\u001B[39m res\n",
      "\u001B[0;31mgaierror\u001B[0m: [Errno 8] nodename nor servname provided, or not known",
      "\nDuring handling of the above exception, another exception occurred:\n",
      "\u001B[0;31mURLError\u001B[0m                                  Traceback (most recent call last)",
      "Cell \u001B[0;32mIn[30], line 5\u001B[0m\n\u001B[1;32m      2\u001B[0m     \u001B[38;5;28;01mif\u001B[39;00m \u001B[38;5;129;01mnot\u001B[39;00m os\u001B[38;5;241m.\u001B[39mpath\u001B[38;5;241m.\u001B[39mexists(filename):\n\u001B[1;32m      3\u001B[0m         urllib\u001B[38;5;241m.\u001B[39mrequest\u001B[38;5;241m.\u001B[39murlretrieve(url, filename)\n\u001B[0;32m----> 5\u001B[0m \u001B[43mdownload_file\u001B[49m\u001B[43m(\u001B[49m\u001B[38;5;124;43m\"\u001B[39;49m\u001B[38;5;124;43mhttps://storage.yandexcloud.net/natasha-navec/packs/navec_hudlit_v1_12B_500K_300d_100q.tar\u001B[39;49m\u001B[38;5;124;43m\"\u001B[39;49m\u001B[43m,\u001B[49m\u001B[43m \u001B[49m\u001B[38;5;124;43m\"\u001B[39;49m\u001B[38;5;124;43mnavec_hudlit_v1_12B_500K_300d_100q.tar\u001B[39;49m\u001B[38;5;124;43m\"\u001B[39;49m\u001B[43m)\u001B[49m\n\u001B[1;32m      6\u001B[0m download_file(\u001B[38;5;124m\"\u001B[39m\u001B[38;5;124mhttps://storage.yandexcloud.net/natasha-slovnet/packs/slovnet_ner_bert.tar\u001B[39m\u001B[38;5;124m\"\u001B[39m, \u001B[38;5;124m\"\u001B[39m\u001B[38;5;124mslovnet_ner_bert.tar\u001B[39m\u001B[38;5;124m\"\u001B[39m)\n",
      "Cell \u001B[0;32mIn[30], line 3\u001B[0m, in \u001B[0;36mdownload_file\u001B[0;34m(url, filename)\u001B[0m\n\u001B[1;32m      1\u001B[0m \u001B[38;5;28;01mdef\u001B[39;00m \u001B[38;5;21mdownload_file\u001B[39m(url, filename):\n\u001B[1;32m      2\u001B[0m     \u001B[38;5;28;01mif\u001B[39;00m \u001B[38;5;129;01mnot\u001B[39;00m os\u001B[38;5;241m.\u001B[39mpath\u001B[38;5;241m.\u001B[39mexists(filename):\n\u001B[0;32m----> 3\u001B[0m         \u001B[43murllib\u001B[49m\u001B[38;5;241;43m.\u001B[39;49m\u001B[43mrequest\u001B[49m\u001B[38;5;241;43m.\u001B[39;49m\u001B[43murlretrieve\u001B[49m\u001B[43m(\u001B[49m\u001B[43murl\u001B[49m\u001B[43m,\u001B[49m\u001B[43m \u001B[49m\u001B[43mfilename\u001B[49m\u001B[43m)\u001B[49m\n",
      "File \u001B[0;32m/Library/Frameworks/Python.framework/Versions/3.10/lib/python3.10/urllib/request.py:241\u001B[0m, in \u001B[0;36murlretrieve\u001B[0;34m(url, filename, reporthook, data)\u001B[0m\n\u001B[1;32m    224\u001B[0m \u001B[38;5;250m\u001B[39m\u001B[38;5;124;03m\"\"\"\u001B[39;00m\n\u001B[1;32m    225\u001B[0m \u001B[38;5;124;03mRetrieve a URL into a temporary location on disk.\u001B[39;00m\n\u001B[1;32m    226\u001B[0m \n\u001B[0;32m   (...)\u001B[0m\n\u001B[1;32m    237\u001B[0m \u001B[38;5;124;03mdata file as well as the resulting HTTPMessage object.\u001B[39;00m\n\u001B[1;32m    238\u001B[0m \u001B[38;5;124;03m\"\"\"\u001B[39;00m\n\u001B[1;32m    239\u001B[0m url_type, path \u001B[38;5;241m=\u001B[39m _splittype(url)\n\u001B[0;32m--> 241\u001B[0m \u001B[38;5;28;01mwith\u001B[39;00m contextlib\u001B[38;5;241m.\u001B[39mclosing(\u001B[43murlopen\u001B[49m\u001B[43m(\u001B[49m\u001B[43murl\u001B[49m\u001B[43m,\u001B[49m\u001B[43m \u001B[49m\u001B[43mdata\u001B[49m\u001B[43m)\u001B[49m) \u001B[38;5;28;01mas\u001B[39;00m fp:\n\u001B[1;32m    242\u001B[0m     headers \u001B[38;5;241m=\u001B[39m fp\u001B[38;5;241m.\u001B[39minfo()\n\u001B[1;32m    244\u001B[0m     \u001B[38;5;66;03m# Just return the local path and the \"headers\" for file://\u001B[39;00m\n\u001B[1;32m    245\u001B[0m     \u001B[38;5;66;03m# URLs. No sense in performing a copy unless requested.\u001B[39;00m\n",
      "File \u001B[0;32m/Library/Frameworks/Python.framework/Versions/3.10/lib/python3.10/urllib/request.py:216\u001B[0m, in \u001B[0;36murlopen\u001B[0;34m(url, data, timeout, cafile, capath, cadefault, context)\u001B[0m\n\u001B[1;32m    214\u001B[0m \u001B[38;5;28;01melse\u001B[39;00m:\n\u001B[1;32m    215\u001B[0m     opener \u001B[38;5;241m=\u001B[39m _opener\n\u001B[0;32m--> 216\u001B[0m \u001B[38;5;28;01mreturn\u001B[39;00m \u001B[43mopener\u001B[49m\u001B[38;5;241;43m.\u001B[39;49m\u001B[43mopen\u001B[49m\u001B[43m(\u001B[49m\u001B[43murl\u001B[49m\u001B[43m,\u001B[49m\u001B[43m \u001B[49m\u001B[43mdata\u001B[49m\u001B[43m,\u001B[49m\u001B[43m \u001B[49m\u001B[43mtimeout\u001B[49m\u001B[43m)\u001B[49m\n",
      "File \u001B[0;32m/Library/Frameworks/Python.framework/Versions/3.10/lib/python3.10/urllib/request.py:519\u001B[0m, in \u001B[0;36mOpenerDirector.open\u001B[0;34m(self, fullurl, data, timeout)\u001B[0m\n\u001B[1;32m    516\u001B[0m     req \u001B[38;5;241m=\u001B[39m meth(req)\n\u001B[1;32m    518\u001B[0m sys\u001B[38;5;241m.\u001B[39maudit(\u001B[38;5;124m'\u001B[39m\u001B[38;5;124murllib.Request\u001B[39m\u001B[38;5;124m'\u001B[39m, req\u001B[38;5;241m.\u001B[39mfull_url, req\u001B[38;5;241m.\u001B[39mdata, req\u001B[38;5;241m.\u001B[39mheaders, req\u001B[38;5;241m.\u001B[39mget_method())\n\u001B[0;32m--> 519\u001B[0m response \u001B[38;5;241m=\u001B[39m \u001B[38;5;28;43mself\u001B[39;49m\u001B[38;5;241;43m.\u001B[39;49m\u001B[43m_open\u001B[49m\u001B[43m(\u001B[49m\u001B[43mreq\u001B[49m\u001B[43m,\u001B[49m\u001B[43m \u001B[49m\u001B[43mdata\u001B[49m\u001B[43m)\u001B[49m\n\u001B[1;32m    521\u001B[0m \u001B[38;5;66;03m# post-process response\u001B[39;00m\n\u001B[1;32m    522\u001B[0m meth_name \u001B[38;5;241m=\u001B[39m protocol\u001B[38;5;241m+\u001B[39m\u001B[38;5;124m\"\u001B[39m\u001B[38;5;124m_response\u001B[39m\u001B[38;5;124m\"\u001B[39m\n",
      "File \u001B[0;32m/Library/Frameworks/Python.framework/Versions/3.10/lib/python3.10/urllib/request.py:536\u001B[0m, in \u001B[0;36mOpenerDirector._open\u001B[0;34m(self, req, data)\u001B[0m\n\u001B[1;32m    533\u001B[0m     \u001B[38;5;28;01mreturn\u001B[39;00m result\n\u001B[1;32m    535\u001B[0m protocol \u001B[38;5;241m=\u001B[39m req\u001B[38;5;241m.\u001B[39mtype\n\u001B[0;32m--> 536\u001B[0m result \u001B[38;5;241m=\u001B[39m \u001B[38;5;28;43mself\u001B[39;49m\u001B[38;5;241;43m.\u001B[39;49m\u001B[43m_call_chain\u001B[49m\u001B[43m(\u001B[49m\u001B[38;5;28;43mself\u001B[39;49m\u001B[38;5;241;43m.\u001B[39;49m\u001B[43mhandle_open\u001B[49m\u001B[43m,\u001B[49m\u001B[43m \u001B[49m\u001B[43mprotocol\u001B[49m\u001B[43m,\u001B[49m\u001B[43m \u001B[49m\u001B[43mprotocol\u001B[49m\u001B[43m \u001B[49m\u001B[38;5;241;43m+\u001B[39;49m\n\u001B[1;32m    537\u001B[0m \u001B[43m                          \u001B[49m\u001B[38;5;124;43m'\u001B[39;49m\u001B[38;5;124;43m_open\u001B[39;49m\u001B[38;5;124;43m'\u001B[39;49m\u001B[43m,\u001B[49m\u001B[43m \u001B[49m\u001B[43mreq\u001B[49m\u001B[43m)\u001B[49m\n\u001B[1;32m    538\u001B[0m \u001B[38;5;28;01mif\u001B[39;00m result:\n\u001B[1;32m    539\u001B[0m     \u001B[38;5;28;01mreturn\u001B[39;00m result\n",
      "File \u001B[0;32m/Library/Frameworks/Python.framework/Versions/3.10/lib/python3.10/urllib/request.py:496\u001B[0m, in \u001B[0;36mOpenerDirector._call_chain\u001B[0;34m(self, chain, kind, meth_name, *args)\u001B[0m\n\u001B[1;32m    494\u001B[0m \u001B[38;5;28;01mfor\u001B[39;00m handler \u001B[38;5;129;01min\u001B[39;00m handlers:\n\u001B[1;32m    495\u001B[0m     func \u001B[38;5;241m=\u001B[39m \u001B[38;5;28mgetattr\u001B[39m(handler, meth_name)\n\u001B[0;32m--> 496\u001B[0m     result \u001B[38;5;241m=\u001B[39m \u001B[43mfunc\u001B[49m\u001B[43m(\u001B[49m\u001B[38;5;241;43m*\u001B[39;49m\u001B[43margs\u001B[49m\u001B[43m)\u001B[49m\n\u001B[1;32m    497\u001B[0m     \u001B[38;5;28;01mif\u001B[39;00m result \u001B[38;5;129;01mis\u001B[39;00m \u001B[38;5;129;01mnot\u001B[39;00m \u001B[38;5;28;01mNone\u001B[39;00m:\n\u001B[1;32m    498\u001B[0m         \u001B[38;5;28;01mreturn\u001B[39;00m result\n",
      "File \u001B[0;32m/Library/Frameworks/Python.framework/Versions/3.10/lib/python3.10/urllib/request.py:1391\u001B[0m, in \u001B[0;36mHTTPSHandler.https_open\u001B[0;34m(self, req)\u001B[0m\n\u001B[1;32m   1390\u001B[0m \u001B[38;5;28;01mdef\u001B[39;00m \u001B[38;5;21mhttps_open\u001B[39m(\u001B[38;5;28mself\u001B[39m, req):\n\u001B[0;32m-> 1391\u001B[0m     \u001B[38;5;28;01mreturn\u001B[39;00m \u001B[38;5;28;43mself\u001B[39;49m\u001B[38;5;241;43m.\u001B[39;49m\u001B[43mdo_open\u001B[49m\u001B[43m(\u001B[49m\u001B[43mhttp\u001B[49m\u001B[38;5;241;43m.\u001B[39;49m\u001B[43mclient\u001B[49m\u001B[38;5;241;43m.\u001B[39;49m\u001B[43mHTTPSConnection\u001B[49m\u001B[43m,\u001B[49m\u001B[43m \u001B[49m\u001B[43mreq\u001B[49m\u001B[43m,\u001B[49m\n\u001B[1;32m   1392\u001B[0m \u001B[43m        \u001B[49m\u001B[43mcontext\u001B[49m\u001B[38;5;241;43m=\u001B[39;49m\u001B[38;5;28;43mself\u001B[39;49m\u001B[38;5;241;43m.\u001B[39;49m\u001B[43m_context\u001B[49m\u001B[43m,\u001B[49m\u001B[43m \u001B[49m\u001B[43mcheck_hostname\u001B[49m\u001B[38;5;241;43m=\u001B[39;49m\u001B[38;5;28;43mself\u001B[39;49m\u001B[38;5;241;43m.\u001B[39;49m\u001B[43m_check_hostname\u001B[49m\u001B[43m)\u001B[49m\n",
      "File \u001B[0;32m/Library/Frameworks/Python.framework/Versions/3.10/lib/python3.10/urllib/request.py:1351\u001B[0m, in \u001B[0;36mAbstractHTTPHandler.do_open\u001B[0;34m(self, http_class, req, **http_conn_args)\u001B[0m\n\u001B[1;32m   1348\u001B[0m         h\u001B[38;5;241m.\u001B[39mrequest(req\u001B[38;5;241m.\u001B[39mget_method(), req\u001B[38;5;241m.\u001B[39mselector, req\u001B[38;5;241m.\u001B[39mdata, headers,\n\u001B[1;32m   1349\u001B[0m                   encode_chunked\u001B[38;5;241m=\u001B[39mreq\u001B[38;5;241m.\u001B[39mhas_header(\u001B[38;5;124m'\u001B[39m\u001B[38;5;124mTransfer-encoding\u001B[39m\u001B[38;5;124m'\u001B[39m))\n\u001B[1;32m   1350\u001B[0m     \u001B[38;5;28;01mexcept\u001B[39;00m \u001B[38;5;167;01mOSError\u001B[39;00m \u001B[38;5;28;01mas\u001B[39;00m err: \u001B[38;5;66;03m# timeout error\u001B[39;00m\n\u001B[0;32m-> 1351\u001B[0m         \u001B[38;5;28;01mraise\u001B[39;00m URLError(err)\n\u001B[1;32m   1352\u001B[0m     r \u001B[38;5;241m=\u001B[39m h\u001B[38;5;241m.\u001B[39mgetresponse()\n\u001B[1;32m   1353\u001B[0m \u001B[38;5;28;01mexcept\u001B[39;00m:\n",
      "\u001B[0;31mURLError\u001B[0m: <urlopen error [Errno 8] nodename nor servname provided, or not known>"
     ]
    }
   ],
   "source": [
    "# def download_file(url, filename):\n",
    "#     if not os.path.exists(filename):\n",
    "#         urllib.request.urlretrieve(url, filename)\n",
    "# \n",
    "# download_file(\"https://storage.yandexcloud.net/natasha-navec/packs/navec_hudlit_v1_12B_500K_300d_100q.tar\", \"navec_hudlit_v1_12B_500K_300d_100q.tar\")\n",
    "# download_file(\"https://storage.yandexcloud.net/natasha-slovnet/packs/slovnet_ner_bert.tar\", \"slovnet_ner_bert.tar\")"
   ],
   "metadata": {
    "collapsed": false,
    "ExecuteTime": {
     "end_time": "2023-08-24T07:05:33.764661Z",
     "start_time": "2023-08-24T07:05:33.195607Z"
    }
   }
  },
  {
   "cell_type": "code",
   "execution_count": null,
   "outputs": [],
   "source": [],
   "metadata": {
    "collapsed": false
   }
  }
 ],
 "metadata": {
  "kernelspec": {
   "display_name": "Python 3",
   "language": "python",
   "name": "python3"
  },
  "language_info": {
   "codemirror_mode": {
    "name": "ipython",
    "version": 2
   },
   "file_extension": ".py",
   "mimetype": "text/x-python",
   "name": "python",
   "nbconvert_exporter": "python",
   "pygments_lexer": "ipython2",
   "version": "2.7.6"
  }
 },
 "nbformat": 4,
 "nbformat_minor": 0
}
